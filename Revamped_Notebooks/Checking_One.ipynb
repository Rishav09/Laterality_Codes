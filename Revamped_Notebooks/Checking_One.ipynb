{
 "cells": [
  {
   "cell_type": "markdown",
   "metadata": {},
   "source": [
    "## Responsible for data division"
   ]
  },
  {
   "cell_type": "code",
   "execution_count": 73,
   "metadata": {},
   "outputs": [],
   "source": [
    "import pandas as pd"
   ]
  },
  {
   "cell_type": "code",
   "execution_count": 74,
   "metadata": {},
   "outputs": [
    {
     "data": {
      "text/html": [
       "<div>\n",
       "<style scoped>\n",
       "    .dataframe tbody tr th:only-of-type {\n",
       "        vertical-align: middle;\n",
       "    }\n",
       "\n",
       "    .dataframe tbody tr th {\n",
       "        vertical-align: top;\n",
       "    }\n",
       "\n",
       "    .dataframe thead th {\n",
       "        text-align: right;\n",
       "    }\n",
       "</style>\n",
       "<table border=\"1\" class=\"dataframe\">\n",
       "  <thead>\n",
       "    <tr style=\"text-align: right;\">\n",
       "      <th></th>\n",
       "      <th>img</th>\n",
       "      <th>Interior_Left</th>\n",
       "      <th>Interior_Right</th>\n",
       "      <th>Exterior</th>\n",
       "      <th>Other</th>\n",
       "      <th>Canon_Left</th>\n",
       "      <th>Canon_Right</th>\n",
       "      <th>Grader</th>\n",
       "      <th>New_Extension</th>\n",
       "    </tr>\n",
       "  </thead>\n",
       "  <tbody>\n",
       "    <tr>\n",
       "      <th>0</th>\n",
       "      <td>169814_1085325.jpg</td>\n",
       "      <td>0</td>\n",
       "      <td>0</td>\n",
       "      <td>0</td>\n",
       "      <td>1</td>\n",
       "      <td>0</td>\n",
       "      <td>0</td>\n",
       "      <td>Lynn</td>\n",
       "      <td>jpg</td>\n",
       "    </tr>\n",
       "    <tr>\n",
       "      <th>1</th>\n",
       "      <td>169814_1085328.jpg</td>\n",
       "      <td>0</td>\n",
       "      <td>0</td>\n",
       "      <td>0</td>\n",
       "      <td>1</td>\n",
       "      <td>0</td>\n",
       "      <td>0</td>\n",
       "      <td>Lynn</td>\n",
       "      <td>jpg</td>\n",
       "    </tr>\n",
       "    <tr>\n",
       "      <th>2</th>\n",
       "      <td>169855_1085382.jpg</td>\n",
       "      <td>0</td>\n",
       "      <td>0</td>\n",
       "      <td>1</td>\n",
       "      <td>0</td>\n",
       "      <td>0</td>\n",
       "      <td>0</td>\n",
       "      <td>Lynn</td>\n",
       "      <td>jpg</td>\n",
       "    </tr>\n",
       "    <tr>\n",
       "      <th>3</th>\n",
       "      <td>169855_1085384.jpg</td>\n",
       "      <td>0</td>\n",
       "      <td>0</td>\n",
       "      <td>0</td>\n",
       "      <td>1</td>\n",
       "      <td>0</td>\n",
       "      <td>0</td>\n",
       "      <td>Lynn</td>\n",
       "      <td>jpg</td>\n",
       "    </tr>\n",
       "    <tr>\n",
       "      <th>4</th>\n",
       "      <td>169855_1085388.jpg</td>\n",
       "      <td>0</td>\n",
       "      <td>0</td>\n",
       "      <td>0</td>\n",
       "      <td>1</td>\n",
       "      <td>0</td>\n",
       "      <td>0</td>\n",
       "      <td>Lynn</td>\n",
       "      <td>jpg</td>\n",
       "    </tr>\n",
       "    <tr>\n",
       "      <th>...</th>\n",
       "      <td>...</td>\n",
       "      <td>...</td>\n",
       "      <td>...</td>\n",
       "      <td>...</td>\n",
       "      <td>...</td>\n",
       "      <td>...</td>\n",
       "      <td>...</td>\n",
       "      <td>...</td>\n",
       "      <td>...</td>\n",
       "    </tr>\n",
       "    <tr>\n",
       "      <th>94909</th>\n",
       "      <td>279218_1871173.jpg</td>\n",
       "      <td>0</td>\n",
       "      <td>0</td>\n",
       "      <td>0</td>\n",
       "      <td>1</td>\n",
       "      <td>0</td>\n",
       "      <td>0</td>\n",
       "      <td>Arjun</td>\n",
       "      <td>jpg</td>\n",
       "    </tr>\n",
       "    <tr>\n",
       "      <th>94910</th>\n",
       "      <td>279385_1872264.jpg</td>\n",
       "      <td>0</td>\n",
       "      <td>0</td>\n",
       "      <td>1</td>\n",
       "      <td>0</td>\n",
       "      <td>0</td>\n",
       "      <td>0</td>\n",
       "      <td>Arjun</td>\n",
       "      <td>jpg</td>\n",
       "    </tr>\n",
       "    <tr>\n",
       "      <th>94911</th>\n",
       "      <td>279413_1872492.jpg</td>\n",
       "      <td>0</td>\n",
       "      <td>0</td>\n",
       "      <td>0</td>\n",
       "      <td>1</td>\n",
       "      <td>0</td>\n",
       "      <td>0</td>\n",
       "      <td>Arjun</td>\n",
       "      <td>jpg</td>\n",
       "    </tr>\n",
       "    <tr>\n",
       "      <th>94912</th>\n",
       "      <td>279413_1872493.jpg</td>\n",
       "      <td>0</td>\n",
       "      <td>0</td>\n",
       "      <td>0</td>\n",
       "      <td>1</td>\n",
       "      <td>0</td>\n",
       "      <td>0</td>\n",
       "      <td>Arjun</td>\n",
       "      <td>jpg</td>\n",
       "    </tr>\n",
       "    <tr>\n",
       "      <th>94913</th>\n",
       "      <td>279445_1872749.jpg</td>\n",
       "      <td>0</td>\n",
       "      <td>0</td>\n",
       "      <td>1</td>\n",
       "      <td>0</td>\n",
       "      <td>0</td>\n",
       "      <td>0</td>\n",
       "      <td>Arjun</td>\n",
       "      <td>jpg</td>\n",
       "    </tr>\n",
       "  </tbody>\n",
       "</table>\n",
       "<p>94914 rows × 9 columns</p>\n",
       "</div>"
      ],
      "text/plain": [
       "                      img  Interior_Left  Interior_Right  Exterior  Other  \\\n",
       "0      169814_1085325.jpg              0               0         0      1   \n",
       "1      169814_1085328.jpg              0               0         0      1   \n",
       "2      169855_1085382.jpg              0               0         1      0   \n",
       "3      169855_1085384.jpg              0               0         0      1   \n",
       "4      169855_1085388.jpg              0               0         0      1   \n",
       "...                   ...            ...             ...       ...    ...   \n",
       "94909  279218_1871173.jpg              0               0         0      1   \n",
       "94910  279385_1872264.jpg              0               0         1      0   \n",
       "94911  279413_1872492.jpg              0               0         0      1   \n",
       "94912  279413_1872493.jpg              0               0         0      1   \n",
       "94913  279445_1872749.jpg              0               0         1      0   \n",
       "\n",
       "       Canon_Left  Canon_Right Grader New_Extension  \n",
       "0               0            0   Lynn           jpg  \n",
       "1               0            0   Lynn           jpg  \n",
       "2               0            0   Lynn           jpg  \n",
       "3               0            0   Lynn           jpg  \n",
       "4               0            0   Lynn           jpg  \n",
       "...           ...          ...    ...           ...  \n",
       "94909           0            0  Arjun           jpg  \n",
       "94910           0            0  Arjun           jpg  \n",
       "94911           0            0  Arjun           jpg  \n",
       "94912           0            0  Arjun           jpg  \n",
       "94913           0            0  Arjun           jpg  \n",
       "\n",
       "[94914 rows x 9 columns]"
      ]
     },
     "execution_count": 74,
     "metadata": {},
     "output_type": "execute_result"
    }
   ],
   "source": [
    "total_laterality = pd.read_csv(\"/Users/swastik/ophthalmology/Master_Daddy_Project/Laterality/Data_Staging/Notebooks/Revamped_Notebooks/total_laterality_master_file.csv\")\n",
    "total_laterality"
   ]
  },
  {
   "cell_type": "code",
   "execution_count": 75,
   "metadata": {},
   "outputs": [
    {
     "data": {
      "text/html": [
       "<div>\n",
       "<style scoped>\n",
       "    .dataframe tbody tr th:only-of-type {\n",
       "        vertical-align: middle;\n",
       "    }\n",
       "\n",
       "    .dataframe tbody tr th {\n",
       "        vertical-align: top;\n",
       "    }\n",
       "\n",
       "    .dataframe thead th {\n",
       "        text-align: right;\n",
       "    }\n",
       "</style>\n",
       "<table border=\"1\" class=\"dataframe\">\n",
       "  <thead>\n",
       "    <tr style=\"text-align: right;\">\n",
       "      <th></th>\n",
       "      <th>img</th>\n",
       "      <th>Interior_Left</th>\n",
       "      <th>Interior_Right</th>\n",
       "      <th>Exterior</th>\n",
       "      <th>Other</th>\n",
       "      <th>Canon_Left</th>\n",
       "      <th>Canon_Right</th>\n",
       "      <th>Grader</th>\n",
       "      <th>New_Extension</th>\n",
       "      <th>labels</th>\n",
       "    </tr>\n",
       "  </thead>\n",
       "  <tbody>\n",
       "    <tr>\n",
       "      <th>0</th>\n",
       "      <td>169814_1085325.jpg</td>\n",
       "      <td>0</td>\n",
       "      <td>0</td>\n",
       "      <td>0</td>\n",
       "      <td>1</td>\n",
       "      <td>0</td>\n",
       "      <td>0</td>\n",
       "      <td>Lynn</td>\n",
       "      <td>jpg</td>\n",
       "      <td>-1</td>\n",
       "    </tr>\n",
       "    <tr>\n",
       "      <th>1</th>\n",
       "      <td>169814_1085328.jpg</td>\n",
       "      <td>0</td>\n",
       "      <td>0</td>\n",
       "      <td>0</td>\n",
       "      <td>1</td>\n",
       "      <td>0</td>\n",
       "      <td>0</td>\n",
       "      <td>Lynn</td>\n",
       "      <td>jpg</td>\n",
       "      <td>-1</td>\n",
       "    </tr>\n",
       "    <tr>\n",
       "      <th>2</th>\n",
       "      <td>169855_1085382.jpg</td>\n",
       "      <td>0</td>\n",
       "      <td>0</td>\n",
       "      <td>1</td>\n",
       "      <td>0</td>\n",
       "      <td>0</td>\n",
       "      <td>0</td>\n",
       "      <td>Lynn</td>\n",
       "      <td>jpg</td>\n",
       "      <td>-1</td>\n",
       "    </tr>\n",
       "    <tr>\n",
       "      <th>3</th>\n",
       "      <td>169855_1085384.jpg</td>\n",
       "      <td>0</td>\n",
       "      <td>0</td>\n",
       "      <td>0</td>\n",
       "      <td>1</td>\n",
       "      <td>0</td>\n",
       "      <td>0</td>\n",
       "      <td>Lynn</td>\n",
       "      <td>jpg</td>\n",
       "      <td>-1</td>\n",
       "    </tr>\n",
       "    <tr>\n",
       "      <th>4</th>\n",
       "      <td>169855_1085388.jpg</td>\n",
       "      <td>0</td>\n",
       "      <td>0</td>\n",
       "      <td>0</td>\n",
       "      <td>1</td>\n",
       "      <td>0</td>\n",
       "      <td>0</td>\n",
       "      <td>Lynn</td>\n",
       "      <td>jpg</td>\n",
       "      <td>-1</td>\n",
       "    </tr>\n",
       "  </tbody>\n",
       "</table>\n",
       "</div>"
      ],
      "text/plain": [
       "                  img  Interior_Left  Interior_Right  Exterior  Other  \\\n",
       "0  169814_1085325.jpg              0               0         0      1   \n",
       "1  169814_1085328.jpg              0               0         0      1   \n",
       "2  169855_1085382.jpg              0               0         1      0   \n",
       "3  169855_1085384.jpg              0               0         0      1   \n",
       "4  169855_1085388.jpg              0               0         0      1   \n",
       "\n",
       "   Canon_Left  Canon_Right Grader New_Extension  labels  \n",
       "0           0            0   Lynn           jpg      -1  \n",
       "1           0            0   Lynn           jpg      -1  \n",
       "2           0            0   Lynn           jpg      -1  \n",
       "3           0            0   Lynn           jpg      -1  \n",
       "4           0            0   Lynn           jpg      -1  "
      ]
     },
     "execution_count": 75,
     "metadata": {},
     "output_type": "execute_result"
    }
   ],
   "source": [
    "total_laterality['labels'] = -1\n",
    "total_laterality.head()"
   ]
  },
  {
   "cell_type": "code",
   "execution_count": 76,
   "metadata": {},
   "outputs": [],
   "source": [
    "total_laterality.loc[total_laterality['Interior_Left'] == 1,'labels'] = 0\n",
    "total_laterality.loc[total_laterality['Interior_Right'] == 1,'labels'] = 1\n",
    "total_laterality.loc[total_laterality['Exterior'] == 1,'labels'] = 2\n",
    "total_laterality.loc[total_laterality['Canon_Left'] == 1,'labels'] = 3\n",
    "total_laterality.loc[total_laterality['Canon_Right'] == 1,'labels'] = 4\n",
    "total_laterality.loc[total_laterality['Other'] == 1,'labels'] = 5\n",
    "\n"
   ]
  },
  {
   "cell_type": "code",
   "execution_count": 77,
   "metadata": {},
   "outputs": [
    {
     "data": {
      "text/html": [
       "<div>\n",
       "<style scoped>\n",
       "    .dataframe tbody tr th:only-of-type {\n",
       "        vertical-align: middle;\n",
       "    }\n",
       "\n",
       "    .dataframe tbody tr th {\n",
       "        vertical-align: top;\n",
       "    }\n",
       "\n",
       "    .dataframe thead th {\n",
       "        text-align: right;\n",
       "    }\n",
       "</style>\n",
       "<table border=\"1\" class=\"dataframe\">\n",
       "  <thead>\n",
       "    <tr style=\"text-align: right;\">\n",
       "      <th></th>\n",
       "      <th>Interior_Left</th>\n",
       "      <th>Interior_Right</th>\n",
       "      <th>Exterior</th>\n",
       "      <th>Canon_Left</th>\n",
       "      <th>Canon_Right</th>\n",
       "      <th>Other</th>\n",
       "    </tr>\n",
       "  </thead>\n",
       "  <tbody>\n",
       "    <tr>\n",
       "      <th>0</th>\n",
       "      <td>False</td>\n",
       "      <td>False</td>\n",
       "      <td>False</td>\n",
       "      <td>False</td>\n",
       "      <td>False</td>\n",
       "      <td>True</td>\n",
       "    </tr>\n",
       "    <tr>\n",
       "      <th>1</th>\n",
       "      <td>False</td>\n",
       "      <td>False</td>\n",
       "      <td>False</td>\n",
       "      <td>False</td>\n",
       "      <td>False</td>\n",
       "      <td>True</td>\n",
       "    </tr>\n",
       "    <tr>\n",
       "      <th>2</th>\n",
       "      <td>False</td>\n",
       "      <td>False</td>\n",
       "      <td>True</td>\n",
       "      <td>False</td>\n",
       "      <td>False</td>\n",
       "      <td>False</td>\n",
       "    </tr>\n",
       "    <tr>\n",
       "      <th>3</th>\n",
       "      <td>False</td>\n",
       "      <td>False</td>\n",
       "      <td>False</td>\n",
       "      <td>False</td>\n",
       "      <td>False</td>\n",
       "      <td>True</td>\n",
       "    </tr>\n",
       "    <tr>\n",
       "      <th>4</th>\n",
       "      <td>False</td>\n",
       "      <td>False</td>\n",
       "      <td>False</td>\n",
       "      <td>False</td>\n",
       "      <td>False</td>\n",
       "      <td>True</td>\n",
       "    </tr>\n",
       "    <tr>\n",
       "      <th>...</th>\n",
       "      <td>...</td>\n",
       "      <td>...</td>\n",
       "      <td>...</td>\n",
       "      <td>...</td>\n",
       "      <td>...</td>\n",
       "      <td>...</td>\n",
       "    </tr>\n",
       "    <tr>\n",
       "      <th>94909</th>\n",
       "      <td>False</td>\n",
       "      <td>False</td>\n",
       "      <td>False</td>\n",
       "      <td>False</td>\n",
       "      <td>False</td>\n",
       "      <td>True</td>\n",
       "    </tr>\n",
       "    <tr>\n",
       "      <th>94910</th>\n",
       "      <td>False</td>\n",
       "      <td>False</td>\n",
       "      <td>True</td>\n",
       "      <td>False</td>\n",
       "      <td>False</td>\n",
       "      <td>False</td>\n",
       "    </tr>\n",
       "    <tr>\n",
       "      <th>94911</th>\n",
       "      <td>False</td>\n",
       "      <td>False</td>\n",
       "      <td>False</td>\n",
       "      <td>False</td>\n",
       "      <td>False</td>\n",
       "      <td>True</td>\n",
       "    </tr>\n",
       "    <tr>\n",
       "      <th>94912</th>\n",
       "      <td>False</td>\n",
       "      <td>False</td>\n",
       "      <td>False</td>\n",
       "      <td>False</td>\n",
       "      <td>False</td>\n",
       "      <td>True</td>\n",
       "    </tr>\n",
       "    <tr>\n",
       "      <th>94913</th>\n",
       "      <td>False</td>\n",
       "      <td>False</td>\n",
       "      <td>True</td>\n",
       "      <td>False</td>\n",
       "      <td>False</td>\n",
       "      <td>False</td>\n",
       "    </tr>\n",
       "  </tbody>\n",
       "</table>\n",
       "<p>94914 rows × 6 columns</p>\n",
       "</div>"
      ],
      "text/plain": [
       "       Interior_Left  Interior_Right  Exterior  Canon_Left  Canon_Right  Other\n",
       "0              False           False     False       False        False   True\n",
       "1              False           False     False       False        False   True\n",
       "2              False           False      True       False        False  False\n",
       "3              False           False     False       False        False   True\n",
       "4              False           False     False       False        False   True\n",
       "...              ...             ...       ...         ...          ...    ...\n",
       "94909          False           False     False       False        False   True\n",
       "94910          False           False      True       False        False  False\n",
       "94911          False           False     False       False        False   True\n",
       "94912          False           False     False       False        False   True\n",
       "94913          False           False      True       False        False  False\n",
       "\n",
       "[94914 rows x 6 columns]"
      ]
     },
     "execution_count": 77,
     "metadata": {},
     "output_type": "execute_result"
    }
   ],
   "source": [
    "bool_df"
   ]
  },
  {
   "cell_type": "code",
   "execution_count": 78,
   "metadata": {},
   "outputs": [
    {
     "name": "stdout",
     "output_type": "stream",
     "text": [
      "Is the DataFrame one-hot encoded? False\n"
     ]
    }
   ],
   "source": [
    "bool_df = total_laterality[['Interior_Left', 'Interior_Right', 'Exterior', 'Canon_Left', 'Canon_Right', 'Other']] == 1\n",
    "one_hot_encoded = (bool_df.sum(axis=1) == 1).all()\n",
    "print(\"Is the DataFrame one-hot encoded?\", one_hot_encoded)"
   ]
  },
  {
   "cell_type": "code",
   "execution_count": 79,
   "metadata": {},
   "outputs": [
    {
     "name": "stdout",
     "output_type": "stream",
     "text": [
      "Rows with multiple 1s:\n",
      "25100    2\n",
      "27038    2\n",
      "27592    2\n",
      "27952    2\n",
      "28067    2\n",
      "28082    2\n",
      "28154    2\n",
      "28297    2\n",
      "28772    2\n",
      "28790    2\n",
      "28819    2\n",
      "29465    2\n",
      "29498    2\n",
      "29499    2\n",
      "29504    2\n",
      "30239    2\n",
      "30686    2\n",
      "30772    2\n",
      "31598    2\n",
      "31688    2\n",
      "32303    2\n",
      "32774    2\n",
      "33165    2\n",
      "33297    2\n",
      "33856    2\n",
      "34153    2\n",
      "34441    2\n",
      "35111    2\n",
      "35243    2\n",
      "35350    2\n",
      "35543    2\n",
      "35838    2\n",
      "35941    2\n",
      "35966    2\n",
      "36484    2\n",
      "36610    2\n",
      "36611    2\n",
      "36867    2\n",
      "37031    2\n",
      "37161    2\n",
      "37573    2\n",
      "37591    2\n",
      "37635    2\n",
      "38372    2\n",
      "38438    2\n",
      "38547    2\n",
      "dtype: int64\n",
      "\n",
      "Rows with no 1s:\n",
      "Series([], dtype: int64)\n"
     ]
    }
   ],
   "source": [
    "bool_df = total_laterality[['Interior_Left', 'Interior_Right', 'Exterior', 'Canon_Left', 'Canon_Right', 'Other']] == 1\n",
    "count_of_ones = bool_df.sum(axis=1)\n",
    "# Find the rows with more than one '1' or no '1'\n",
    "rows_with_multiple_ones = count_of_ones[count_of_ones > 1]\n",
    "rows_with_no_ones = count_of_ones[count_of_ones == 0]\n",
    "\n",
    "# Display the problematic rows\n",
    "print(\"Rows with multiple 1s:\")\n",
    "print(rows_with_multiple_ones)\n",
    "\n",
    "print(\"\\nRows with no 1s:\")\n",
    "print(rows_with_no_ones)"
   ]
  },
  {
   "cell_type": "code",
   "execution_count": 80,
   "metadata": {},
   "outputs": [
    {
     "name": "stdout",
     "output_type": "stream",
     "text": [
      "Data for rows with multiple 1s:\n"
     ]
    },
    {
     "data": {
      "text/plain": [
       "46"
      ]
     },
     "execution_count": 80,
     "metadata": {},
     "output_type": "execute_result"
    }
   ],
   "source": [
    "# Inspect the problematic rows\n",
    "print(\"Data for rows with multiple 1s:\")\n",
    "len(total_laterality.loc[rows_with_multiple_ones.index])"
   ]
  },
  {
   "cell_type": "code",
   "execution_count": 82,
   "metadata": {},
   "outputs": [],
   "source": [
    "total_laterality = total_laterality.drop(rows_with_multiple_ones.index)\n",
    "total_laterality.reset_index(drop=True, inplace=True)"
   ]
  },
  {
   "cell_type": "code",
   "execution_count": 84,
   "metadata": {},
   "outputs": [
    {
     "data": {
      "text/plain": [
       "5    45067\n",
       "2    22385\n",
       "3     8071\n",
       "4     7993\n",
       "0     6179\n",
       "1     5173\n",
       "Name: labels, dtype: int64"
      ]
     },
     "execution_count": 84,
     "metadata": {},
     "output_type": "execute_result"
    }
   ],
   "source": [
    "total_laterality['labels'].value_counts()"
   ]
  },
  {
   "cell_type": "code",
   "execution_count": 85,
   "metadata": {},
   "outputs": [
    {
     "data": {
      "text/plain": [
       "94868"
      ]
     },
     "execution_count": 85,
     "metadata": {},
     "output_type": "execute_result"
    }
   ],
   "source": [
    "45067 + 22385 + 8071 + 7993 + 6179 + 5173"
   ]
  },
  {
   "cell_type": "code",
   "execution_count": 68,
   "metadata": {},
   "outputs": [
    {
     "name": "stdout",
     "output_type": "stream",
     "text": [
      "Data for rows with No 1s:\n"
     ]
    },
    {
     "data": {
      "text/html": [
       "<div>\n",
       "<style scoped>\n",
       "    .dataframe tbody tr th:only-of-type {\n",
       "        vertical-align: middle;\n",
       "    }\n",
       "\n",
       "    .dataframe tbody tr th {\n",
       "        vertical-align: top;\n",
       "    }\n",
       "\n",
       "    .dataframe thead th {\n",
       "        text-align: right;\n",
       "    }\n",
       "</style>\n",
       "<table border=\"1\" class=\"dataframe\">\n",
       "  <thead>\n",
       "    <tr style=\"text-align: right;\">\n",
       "      <th></th>\n",
       "      <th>img</th>\n",
       "      <th>Interior_Left</th>\n",
       "      <th>Interior_Right</th>\n",
       "      <th>Exterior</th>\n",
       "      <th>Other</th>\n",
       "      <th>Canon_Left</th>\n",
       "      <th>Canon_Right</th>\n",
       "      <th>Grader</th>\n",
       "      <th>New_Extension</th>\n",
       "      <th>labels</th>\n",
       "    </tr>\n",
       "  </thead>\n",
       "  <tbody>\n",
       "  </tbody>\n",
       "</table>\n",
       "</div>"
      ],
      "text/plain": [
       "Empty DataFrame\n",
       "Columns: [img, Interior_Left, Interior_Right, Exterior, Other, Canon_Left, Canon_Right, Grader, New_Extension, labels]\n",
       "Index: []"
      ]
     },
     "execution_count": 68,
     "metadata": {},
     "output_type": "execute_result"
    }
   ],
   "source": [
    "# Inspect the problematic rows\n",
    "print(\"Data for rows with No 1s:\")\n",
    "total_laterality.loc[rows_with_no_ones.index]"
   ]
  },
  {
   "cell_type": "code",
   "execution_count": 45,
   "metadata": {},
   "outputs": [],
   "source": [
    "total_laterality = total_laterality.drop(rows_with_multiple_ones.index)\n"
   ]
  },
  {
   "cell_type": "code",
   "execution_count": 96,
   "metadata": {},
   "outputs": [
    {
     "data": {
      "text/html": [
       "<div>\n",
       "<style scoped>\n",
       "    .dataframe tbody tr th:only-of-type {\n",
       "        vertical-align: middle;\n",
       "    }\n",
       "\n",
       "    .dataframe tbody tr th {\n",
       "        vertical-align: top;\n",
       "    }\n",
       "\n",
       "    .dataframe thead th {\n",
       "        text-align: right;\n",
       "    }\n",
       "</style>\n",
       "<table border=\"1\" class=\"dataframe\">\n",
       "  <thead>\n",
       "    <tr style=\"text-align: right;\">\n",
       "      <th></th>\n",
       "      <th>img</th>\n",
       "      <th>Interior_Left</th>\n",
       "      <th>Interior_Right</th>\n",
       "      <th>Exterior</th>\n",
       "      <th>Other</th>\n",
       "      <th>Canon_Left</th>\n",
       "      <th>Canon_Right</th>\n",
       "      <th>Grader</th>\n",
       "      <th>New_Extension</th>\n",
       "      <th>labels</th>\n",
       "    </tr>\n",
       "  </thead>\n",
       "  <tbody>\n",
       "    <tr>\n",
       "      <th>0</th>\n",
       "      <td>169814_1085325.jpg</td>\n",
       "      <td>0</td>\n",
       "      <td>0</td>\n",
       "      <td>0</td>\n",
       "      <td>1</td>\n",
       "      <td>0</td>\n",
       "      <td>0</td>\n",
       "      <td>Lynn</td>\n",
       "      <td>jpg</td>\n",
       "      <td>5</td>\n",
       "    </tr>\n",
       "    <tr>\n",
       "      <th>1</th>\n",
       "      <td>169814_1085328.jpg</td>\n",
       "      <td>0</td>\n",
       "      <td>0</td>\n",
       "      <td>0</td>\n",
       "      <td>1</td>\n",
       "      <td>0</td>\n",
       "      <td>0</td>\n",
       "      <td>Lynn</td>\n",
       "      <td>jpg</td>\n",
       "      <td>5</td>\n",
       "    </tr>\n",
       "    <tr>\n",
       "      <th>2</th>\n",
       "      <td>169855_1085382.jpg</td>\n",
       "      <td>0</td>\n",
       "      <td>0</td>\n",
       "      <td>1</td>\n",
       "      <td>0</td>\n",
       "      <td>0</td>\n",
       "      <td>0</td>\n",
       "      <td>Lynn</td>\n",
       "      <td>jpg</td>\n",
       "      <td>2</td>\n",
       "    </tr>\n",
       "    <tr>\n",
       "      <th>3</th>\n",
       "      <td>169855_1085384.jpg</td>\n",
       "      <td>0</td>\n",
       "      <td>0</td>\n",
       "      <td>0</td>\n",
       "      <td>1</td>\n",
       "      <td>0</td>\n",
       "      <td>0</td>\n",
       "      <td>Lynn</td>\n",
       "      <td>jpg</td>\n",
       "      <td>5</td>\n",
       "    </tr>\n",
       "    <tr>\n",
       "      <th>4</th>\n",
       "      <td>169855_1085388.jpg</td>\n",
       "      <td>0</td>\n",
       "      <td>0</td>\n",
       "      <td>0</td>\n",
       "      <td>1</td>\n",
       "      <td>0</td>\n",
       "      <td>0</td>\n",
       "      <td>Lynn</td>\n",
       "      <td>jpg</td>\n",
       "      <td>5</td>\n",
       "    </tr>\n",
       "    <tr>\n",
       "      <th>...</th>\n",
       "      <td>...</td>\n",
       "      <td>...</td>\n",
       "      <td>...</td>\n",
       "      <td>...</td>\n",
       "      <td>...</td>\n",
       "      <td>...</td>\n",
       "      <td>...</td>\n",
       "      <td>...</td>\n",
       "      <td>...</td>\n",
       "      <td>...</td>\n",
       "    </tr>\n",
       "    <tr>\n",
       "      <th>94863</th>\n",
       "      <td>279218_1871173.jpg</td>\n",
       "      <td>0</td>\n",
       "      <td>0</td>\n",
       "      <td>0</td>\n",
       "      <td>1</td>\n",
       "      <td>0</td>\n",
       "      <td>0</td>\n",
       "      <td>Arjun</td>\n",
       "      <td>jpg</td>\n",
       "      <td>5</td>\n",
       "    </tr>\n",
       "    <tr>\n",
       "      <th>94864</th>\n",
       "      <td>279385_1872264.jpg</td>\n",
       "      <td>0</td>\n",
       "      <td>0</td>\n",
       "      <td>1</td>\n",
       "      <td>0</td>\n",
       "      <td>0</td>\n",
       "      <td>0</td>\n",
       "      <td>Arjun</td>\n",
       "      <td>jpg</td>\n",
       "      <td>2</td>\n",
       "    </tr>\n",
       "    <tr>\n",
       "      <th>94865</th>\n",
       "      <td>279413_1872492.jpg</td>\n",
       "      <td>0</td>\n",
       "      <td>0</td>\n",
       "      <td>0</td>\n",
       "      <td>1</td>\n",
       "      <td>0</td>\n",
       "      <td>0</td>\n",
       "      <td>Arjun</td>\n",
       "      <td>jpg</td>\n",
       "      <td>5</td>\n",
       "    </tr>\n",
       "    <tr>\n",
       "      <th>94866</th>\n",
       "      <td>279413_1872493.jpg</td>\n",
       "      <td>0</td>\n",
       "      <td>0</td>\n",
       "      <td>0</td>\n",
       "      <td>1</td>\n",
       "      <td>0</td>\n",
       "      <td>0</td>\n",
       "      <td>Arjun</td>\n",
       "      <td>jpg</td>\n",
       "      <td>5</td>\n",
       "    </tr>\n",
       "    <tr>\n",
       "      <th>94867</th>\n",
       "      <td>279445_1872749.jpg</td>\n",
       "      <td>0</td>\n",
       "      <td>0</td>\n",
       "      <td>1</td>\n",
       "      <td>0</td>\n",
       "      <td>0</td>\n",
       "      <td>0</td>\n",
       "      <td>Arjun</td>\n",
       "      <td>jpg</td>\n",
       "      <td>2</td>\n",
       "    </tr>\n",
       "  </tbody>\n",
       "</table>\n",
       "<p>94868 rows × 10 columns</p>\n",
       "</div>"
      ],
      "text/plain": [
       "                      img  Interior_Left  Interior_Right  Exterior  Other  \\\n",
       "0      169814_1085325.jpg              0               0         0      1   \n",
       "1      169814_1085328.jpg              0               0         0      1   \n",
       "2      169855_1085382.jpg              0               0         1      0   \n",
       "3      169855_1085384.jpg              0               0         0      1   \n",
       "4      169855_1085388.jpg              0               0         0      1   \n",
       "...                   ...            ...             ...       ...    ...   \n",
       "94863  279218_1871173.jpg              0               0         0      1   \n",
       "94864  279385_1872264.jpg              0               0         1      0   \n",
       "94865  279413_1872492.jpg              0               0         0      1   \n",
       "94866  279413_1872493.jpg              0               0         0      1   \n",
       "94867  279445_1872749.jpg              0               0         1      0   \n",
       "\n",
       "       Canon_Left  Canon_Right Grader New_Extension  labels  \n",
       "0               0            0   Lynn           jpg       5  \n",
       "1               0            0   Lynn           jpg       5  \n",
       "2               0            0   Lynn           jpg       2  \n",
       "3               0            0   Lynn           jpg       5  \n",
       "4               0            0   Lynn           jpg       5  \n",
       "...           ...          ...    ...           ...     ...  \n",
       "94863           0            0  Arjun           jpg       5  \n",
       "94864           0            0  Arjun           jpg       2  \n",
       "94865           0            0  Arjun           jpg       5  \n",
       "94866           0            0  Arjun           jpg       5  \n",
       "94867           0            0  Arjun           jpg       2  \n",
       "\n",
       "[94868 rows x 10 columns]"
      ]
     },
     "execution_count": 96,
     "metadata": {},
     "output_type": "execute_result"
    }
   ],
   "source": [
    "total_laterality"
   ]
  },
  {
   "cell_type": "code",
   "execution_count": 34,
   "metadata": {},
   "outputs": [
    {
     "name": "stdout",
     "output_type": "stream",
     "text": [
      "Sum of 'labels' column: 331674\n"
     ]
    }
   ],
   "source": [
    "total_labels = total_laterality['labels'].sum()\n",
    "print(\"Sum of 'labels' column:\", total_labels)"
   ]
  },
  {
   "cell_type": "code",
   "execution_count": 94,
   "metadata": {},
   "outputs": [
    {
     "data": {
      "text/plain": [
       "5    45067\n",
       "2    22385\n",
       "3     8071\n",
       "4     7993\n",
       "0     6179\n",
       "1     5173\n",
       "Name: labels, dtype: int64"
      ]
     },
     "execution_count": 94,
     "metadata": {},
     "output_type": "execute_result"
    }
   ],
   "source": [
    "total_laterality['labels'].value_counts()"
   ]
  },
  {
   "cell_type": "code",
   "execution_count": 95,
   "metadata": {},
   "outputs": [
    {
     "data": {
      "text/plain": [
       "94868"
      ]
     },
     "execution_count": 95,
     "metadata": {},
     "output_type": "execute_result"
    }
   ],
   "source": [
    "45067 + 22385 + 8071 + 7993 + 6179 + 5173"
   ]
  },
  {
   "cell_type": "code",
   "execution_count": 44,
   "metadata": {},
   "outputs": [
    {
     "data": {
      "text/plain": [
       "5    45102\n",
       "2    22387\n",
       "3     8075\n",
       "4     7998\n",
       "0     6179\n",
       "1     5173\n",
       "Name: labels, dtype: int64"
      ]
     },
     "execution_count": 44,
     "metadata": {},
     "output_type": "execute_result"
    }
   ],
   "source": [
    "total_laterality['labels'].value_counts()"
   ]
  },
  {
   "cell_type": "code",
   "execution_count": 55,
   "metadata": {},
   "outputs": [
    {
     "data": {
      "text/plain": [
       "94914"
      ]
     },
     "execution_count": 55,
     "metadata": {},
     "output_type": "execute_result"
    }
   ],
   "source": [
    "45102 + 22387 + 8075 + 7998 + 6179 + 5173"
   ]
  },
  {
   "cell_type": "code",
   "execution_count": 32,
   "metadata": {},
   "outputs": [
    {
     "data": {
      "text/plain": [
       "array([0, 1])"
      ]
     },
     "execution_count": 32,
     "metadata": {},
     "output_type": "execute_result"
    }
   ],
   "source": [
    "total_laterality['Canon_Left'].unique()"
   ]
  },
  {
   "cell_type": "code",
   "execution_count": 23,
   "metadata": {},
   "outputs": [
    {
     "name": "stdout",
     "output_type": "stream",
     "text": [
      "<class 'pandas.core.frame.DataFrame'>\n",
      "RangeIndex: 94914 entries, 0 to 94913\n",
      "Data columns (total 10 columns):\n",
      " #   Column          Non-Null Count  Dtype \n",
      "---  ------          --------------  ----- \n",
      " 0   img             94914 non-null  object\n",
      " 1   Interior_Left   94914 non-null  int64 \n",
      " 2   Interior_Right  94914 non-null  int64 \n",
      " 3   Exterior        94914 non-null  int64 \n",
      " 4   Other           94914 non-null  int64 \n",
      " 5   Canon_Left      94914 non-null  int64 \n",
      " 6   Canon_Right     94914 non-null  int64 \n",
      " 7   Grader          94914 non-null  object\n",
      " 8   New_Extension   94914 non-null  object\n",
      " 9   labels          94914 non-null  int64 \n",
      "dtypes: int64(7), object(3)\n",
      "memory usage: 7.2+ MB\n"
     ]
    }
   ],
   "source": [
    "total_laterality.info()"
   ]
  },
  {
   "cell_type": "code",
   "execution_count": 27,
   "metadata": {},
   "outputs": [
    {
     "data": {
      "text/plain": [
       "94914"
      ]
     },
     "execution_count": 27,
     "metadata": {},
     "output_type": "execute_result"
    }
   ],
   "source": [
    "45102+22387+8075+7998+6179+5173"
   ]
  },
  {
   "cell_type": "code",
   "execution_count": 86,
   "metadata": {},
   "outputs": [
    {
     "data": {
      "text/plain": [
       "0    88689\n",
       "1     6179\n",
       "Name: Interior_Left, dtype: int64"
      ]
     },
     "execution_count": 86,
     "metadata": {},
     "output_type": "execute_result"
    }
   ],
   "source": [
    "total_laterality['Interior_Left'].value_counts()"
   ]
  },
  {
   "cell_type": "code",
   "execution_count": 87,
   "metadata": {},
   "outputs": [
    {
     "data": {
      "text/plain": [
       "6179"
      ]
     },
     "execution_count": 87,
     "metadata": {},
     "output_type": "execute_result"
    }
   ],
   "source": [
    "total_laterality['Interior_Left'].sum()"
   ]
  },
  {
   "cell_type": "code",
   "execution_count": 88,
   "metadata": {},
   "outputs": [
    {
     "data": {
      "text/plain": [
       "5173"
      ]
     },
     "execution_count": 88,
     "metadata": {},
     "output_type": "execute_result"
    }
   ],
   "source": [
    "total_laterality['Interior_Right'].sum()"
   ]
  },
  {
   "cell_type": "code",
   "execution_count": 89,
   "metadata": {},
   "outputs": [
    {
     "data": {
      "text/plain": [
       "22385"
      ]
     },
     "execution_count": 89,
     "metadata": {},
     "output_type": "execute_result"
    }
   ],
   "source": [
    "total_laterality['Exterior'].sum()"
   ]
  },
  {
   "cell_type": "code",
   "execution_count": 92,
   "metadata": {},
   "outputs": [
    {
     "data": {
      "text/plain": [
       "8071"
      ]
     },
     "execution_count": 92,
     "metadata": {},
     "output_type": "execute_result"
    }
   ],
   "source": [
    "total_laterality['Canon_Left'].sum()"
   ]
  },
  {
   "cell_type": "code",
   "execution_count": 93,
   "metadata": {},
   "outputs": [
    {
     "data": {
      "text/plain": [
       "7993"
      ]
     },
     "execution_count": 93,
     "metadata": {},
     "output_type": "execute_result"
    }
   ],
   "source": [
    "total_laterality['Canon_Right'].sum()"
   ]
  },
  {
   "cell_type": "code",
   "execution_count": 91,
   "metadata": {},
   "outputs": [
    {
     "data": {
      "text/plain": [
       "45067"
      ]
     },
     "execution_count": 91,
     "metadata": {},
     "output_type": "execute_result"
    }
   ],
   "source": [
    "total_laterality['Other'].sum()"
   ]
  },
  {
   "cell_type": "code",
   "execution_count": 10,
   "metadata": {},
   "outputs": [
    {
     "data": {
      "text/plain": [
       "0    49812\n",
       "1    45102\n",
       "Name: Other, dtype: int64"
      ]
     },
     "execution_count": 10,
     "metadata": {},
     "output_type": "execute_result"
    }
   ],
   "source": [
    "total_laterality['Other'].value_counts()"
   ]
  },
  {
   "cell_type": "code",
   "execution_count": 11,
   "metadata": {},
   "outputs": [
    {
     "data": {
      "text/plain": [
       "0    86829\n",
       "1     8085\n",
       "Name: Canon_Left, dtype: int64"
      ]
     },
     "execution_count": 11,
     "metadata": {},
     "output_type": "execute_result"
    }
   ],
   "source": [
    "total_laterality['Canon_Left'].value_counts()"
   ]
  },
  {
   "cell_type": "code",
   "execution_count": 12,
   "metadata": {},
   "outputs": [
    {
     "data": {
      "text/plain": [
       "8085"
      ]
     },
     "execution_count": 12,
     "metadata": {},
     "output_type": "execute_result"
    }
   ],
   "source": [
    "total_laterality['Canon_Left'].sum()"
   ]
  },
  {
   "cell_type": "code",
   "execution_count": 13,
   "metadata": {},
   "outputs": [
    {
     "data": {
      "text/plain": [
       "8007"
      ]
     },
     "execution_count": 13,
     "metadata": {},
     "output_type": "execute_result"
    }
   ],
   "source": [
    "total_laterality['Canon_Right'].sum()"
   ]
  },
  {
   "cell_type": "code",
   "execution_count": 14,
   "metadata": {},
   "outputs": [
    {
     "data": {
      "text/plain": [
       "0    86907\n",
       "1     8007\n",
       "Name: Canon_Right, dtype: int64"
      ]
     },
     "execution_count": 14,
     "metadata": {},
     "output_type": "execute_result"
    }
   ],
   "source": [
    "total_laterality['Canon_Right'].value_counts()"
   ]
  },
  {
   "cell_type": "code",
   "execution_count": 28,
   "metadata": {},
   "outputs": [
    {
     "data": {
      "text/plain": [
       "94960"
      ]
     },
     "execution_count": 28,
     "metadata": {},
     "output_type": "execute_result"
    }
   ],
   "source": [
    "6183+5178+22405+45102+8085+8007"
   ]
  },
  {
   "cell_type": "code",
   "execution_count": 35,
   "metadata": {},
   "outputs": [
    {
     "data": {
      "text/html": [
       "<div>\n",
       "<style scoped>\n",
       "    .dataframe tbody tr th:only-of-type {\n",
       "        vertical-align: middle;\n",
       "    }\n",
       "\n",
       "    .dataframe tbody tr th {\n",
       "        vertical-align: top;\n",
       "    }\n",
       "\n",
       "    .dataframe thead th {\n",
       "        text-align: right;\n",
       "    }\n",
       "</style>\n",
       "<table border=\"1\" class=\"dataframe\">\n",
       "  <thead>\n",
       "    <tr style=\"text-align: right;\">\n",
       "      <th></th>\n",
       "      <th>img</th>\n",
       "      <th>Interior_Left</th>\n",
       "      <th>Interior_Right</th>\n",
       "      <th>Exterior</th>\n",
       "      <th>Other</th>\n",
       "      <th>Canon_Left</th>\n",
       "      <th>Canon_Right</th>\n",
       "      <th>Grader</th>\n",
       "      <th>New_Extension</th>\n",
       "      <th>labels</th>\n",
       "    </tr>\n",
       "  </thead>\n",
       "  <tbody>\n",
       "    <tr>\n",
       "      <th>0</th>\n",
       "      <td>169814_1085325.jpg</td>\n",
       "      <td>0</td>\n",
       "      <td>0</td>\n",
       "      <td>0</td>\n",
       "      <td>1</td>\n",
       "      <td>0</td>\n",
       "      <td>0</td>\n",
       "      <td>Lynn</td>\n",
       "      <td>jpg</td>\n",
       "      <td>5</td>\n",
       "    </tr>\n",
       "    <tr>\n",
       "      <th>1</th>\n",
       "      <td>169814_1085328.jpg</td>\n",
       "      <td>0</td>\n",
       "      <td>0</td>\n",
       "      <td>0</td>\n",
       "      <td>1</td>\n",
       "      <td>0</td>\n",
       "      <td>0</td>\n",
       "      <td>Lynn</td>\n",
       "      <td>jpg</td>\n",
       "      <td>5</td>\n",
       "    </tr>\n",
       "    <tr>\n",
       "      <th>2</th>\n",
       "      <td>169855_1085382.jpg</td>\n",
       "      <td>0</td>\n",
       "      <td>0</td>\n",
       "      <td>1</td>\n",
       "      <td>0</td>\n",
       "      <td>0</td>\n",
       "      <td>0</td>\n",
       "      <td>Lynn</td>\n",
       "      <td>jpg</td>\n",
       "      <td>2</td>\n",
       "    </tr>\n",
       "    <tr>\n",
       "      <th>3</th>\n",
       "      <td>169855_1085384.jpg</td>\n",
       "      <td>0</td>\n",
       "      <td>0</td>\n",
       "      <td>0</td>\n",
       "      <td>1</td>\n",
       "      <td>0</td>\n",
       "      <td>0</td>\n",
       "      <td>Lynn</td>\n",
       "      <td>jpg</td>\n",
       "      <td>5</td>\n",
       "    </tr>\n",
       "    <tr>\n",
       "      <th>4</th>\n",
       "      <td>169855_1085388.jpg</td>\n",
       "      <td>0</td>\n",
       "      <td>0</td>\n",
       "      <td>0</td>\n",
       "      <td>1</td>\n",
       "      <td>0</td>\n",
       "      <td>0</td>\n",
       "      <td>Lynn</td>\n",
       "      <td>jpg</td>\n",
       "      <td>5</td>\n",
       "    </tr>\n",
       "    <tr>\n",
       "      <th>...</th>\n",
       "      <td>...</td>\n",
       "      <td>...</td>\n",
       "      <td>...</td>\n",
       "      <td>...</td>\n",
       "      <td>...</td>\n",
       "      <td>...</td>\n",
       "      <td>...</td>\n",
       "      <td>...</td>\n",
       "      <td>...</td>\n",
       "      <td>...</td>\n",
       "    </tr>\n",
       "    <tr>\n",
       "      <th>94909</th>\n",
       "      <td>279218_1871173.jpg</td>\n",
       "      <td>0</td>\n",
       "      <td>0</td>\n",
       "      <td>0</td>\n",
       "      <td>1</td>\n",
       "      <td>0</td>\n",
       "      <td>0</td>\n",
       "      <td>Arjun</td>\n",
       "      <td>jpg</td>\n",
       "      <td>5</td>\n",
       "    </tr>\n",
       "    <tr>\n",
       "      <th>94910</th>\n",
       "      <td>279385_1872264.jpg</td>\n",
       "      <td>0</td>\n",
       "      <td>0</td>\n",
       "      <td>1</td>\n",
       "      <td>0</td>\n",
       "      <td>0</td>\n",
       "      <td>0</td>\n",
       "      <td>Arjun</td>\n",
       "      <td>jpg</td>\n",
       "      <td>2</td>\n",
       "    </tr>\n",
       "    <tr>\n",
       "      <th>94911</th>\n",
       "      <td>279413_1872492.jpg</td>\n",
       "      <td>0</td>\n",
       "      <td>0</td>\n",
       "      <td>0</td>\n",
       "      <td>1</td>\n",
       "      <td>0</td>\n",
       "      <td>0</td>\n",
       "      <td>Arjun</td>\n",
       "      <td>jpg</td>\n",
       "      <td>5</td>\n",
       "    </tr>\n",
       "    <tr>\n",
       "      <th>94912</th>\n",
       "      <td>279413_1872493.jpg</td>\n",
       "      <td>0</td>\n",
       "      <td>0</td>\n",
       "      <td>0</td>\n",
       "      <td>1</td>\n",
       "      <td>0</td>\n",
       "      <td>0</td>\n",
       "      <td>Arjun</td>\n",
       "      <td>jpg</td>\n",
       "      <td>5</td>\n",
       "    </tr>\n",
       "    <tr>\n",
       "      <th>94913</th>\n",
       "      <td>279445_1872749.jpg</td>\n",
       "      <td>0</td>\n",
       "      <td>0</td>\n",
       "      <td>1</td>\n",
       "      <td>0</td>\n",
       "      <td>0</td>\n",
       "      <td>0</td>\n",
       "      <td>Arjun</td>\n",
       "      <td>jpg</td>\n",
       "      <td>2</td>\n",
       "    </tr>\n",
       "  </tbody>\n",
       "</table>\n",
       "<p>94914 rows × 10 columns</p>\n",
       "</div>"
      ],
      "text/plain": [
       "                      img  Interior_Left  Interior_Right  Exterior  Other  \\\n",
       "0      169814_1085325.jpg              0               0         0      1   \n",
       "1      169814_1085328.jpg              0               0         0      1   \n",
       "2      169855_1085382.jpg              0               0         1      0   \n",
       "3      169855_1085384.jpg              0               0         0      1   \n",
       "4      169855_1085388.jpg              0               0         0      1   \n",
       "...                   ...            ...             ...       ...    ...   \n",
       "94909  279218_1871173.jpg              0               0         0      1   \n",
       "94910  279385_1872264.jpg              0               0         1      0   \n",
       "94911  279413_1872492.jpg              0               0         0      1   \n",
       "94912  279413_1872493.jpg              0               0         0      1   \n",
       "94913  279445_1872749.jpg              0               0         1      0   \n",
       "\n",
       "       Canon_Left  Canon_Right Grader New_Extension  labels  \n",
       "0               0            0   Lynn           jpg       5  \n",
       "1               0            0   Lynn           jpg       5  \n",
       "2               0            0   Lynn           jpg       2  \n",
       "3               0            0   Lynn           jpg       5  \n",
       "4               0            0   Lynn           jpg       5  \n",
       "...           ...          ...    ...           ...     ...  \n",
       "94909           0            0  Arjun           jpg       5  \n",
       "94910           0            0  Arjun           jpg       2  \n",
       "94911           0            0  Arjun           jpg       5  \n",
       "94912           0            0  Arjun           jpg       5  \n",
       "94913           0            0  Arjun           jpg       2  \n",
       "\n",
       "[94914 rows x 10 columns]"
      ]
     },
     "execution_count": 35,
     "metadata": {},
     "output_type": "execute_result"
    }
   ],
   "source": [
    "total_laterality"
   ]
  },
  {
   "cell_type": "code",
   "execution_count": 41,
   "metadata": {},
   "outputs": [
    {
     "data": {
      "text/html": [
       "<div>\n",
       "<style scoped>\n",
       "    .dataframe tbody tr th:only-of-type {\n",
       "        vertical-align: middle;\n",
       "    }\n",
       "\n",
       "    .dataframe tbody tr th {\n",
       "        vertical-align: top;\n",
       "    }\n",
       "\n",
       "    .dataframe thead th {\n",
       "        text-align: right;\n",
       "    }\n",
       "</style>\n",
       "<table border=\"1\" class=\"dataframe\">\n",
       "  <thead>\n",
       "    <tr style=\"text-align: right;\">\n",
       "      <th></th>\n",
       "      <th>img</th>\n",
       "      <th>Interior_Left</th>\n",
       "      <th>Interior_Right</th>\n",
       "      <th>Exterior</th>\n",
       "      <th>Other</th>\n",
       "      <th>Canon_Left</th>\n",
       "      <th>Canon_Right</th>\n",
       "      <th>Grader</th>\n",
       "      <th>New_Extension</th>\n",
       "      <th>labels</th>\n",
       "    </tr>\n",
       "  </thead>\n",
       "  <tbody>\n",
       "    <tr>\n",
       "      <th>1</th>\n",
       "      <td>169814_1085328.jpg</td>\n",
       "      <td>0</td>\n",
       "      <td>0</td>\n",
       "      <td>0</td>\n",
       "      <td>1</td>\n",
       "      <td>0</td>\n",
       "      <td>0</td>\n",
       "      <td>Lynn</td>\n",
       "      <td>jpg</td>\n",
       "      <td>5</td>\n",
       "    </tr>\n",
       "    <tr>\n",
       "      <th>3</th>\n",
       "      <td>169855_1085384.jpg</td>\n",
       "      <td>0</td>\n",
       "      <td>0</td>\n",
       "      <td>0</td>\n",
       "      <td>1</td>\n",
       "      <td>0</td>\n",
       "      <td>0</td>\n",
       "      <td>Lynn</td>\n",
       "      <td>jpg</td>\n",
       "      <td>5</td>\n",
       "    </tr>\n",
       "    <tr>\n",
       "      <th>4</th>\n",
       "      <td>169855_1085388.jpg</td>\n",
       "      <td>0</td>\n",
       "      <td>0</td>\n",
       "      <td>0</td>\n",
       "      <td>1</td>\n",
       "      <td>0</td>\n",
       "      <td>0</td>\n",
       "      <td>Lynn</td>\n",
       "      <td>jpg</td>\n",
       "      <td>5</td>\n",
       "    </tr>\n",
       "    <tr>\n",
       "      <th>5</th>\n",
       "      <td>169855_1085389.jpg</td>\n",
       "      <td>0</td>\n",
       "      <td>0</td>\n",
       "      <td>0</td>\n",
       "      <td>1</td>\n",
       "      <td>0</td>\n",
       "      <td>0</td>\n",
       "      <td>Lynn</td>\n",
       "      <td>jpg</td>\n",
       "      <td>5</td>\n",
       "    </tr>\n",
       "    <tr>\n",
       "      <th>8</th>\n",
       "      <td>169867_1085473.jpg</td>\n",
       "      <td>0</td>\n",
       "      <td>0</td>\n",
       "      <td>0</td>\n",
       "      <td>1</td>\n",
       "      <td>0</td>\n",
       "      <td>0</td>\n",
       "      <td>Lynn</td>\n",
       "      <td>jpg</td>\n",
       "      <td>5</td>\n",
       "    </tr>\n",
       "    <tr>\n",
       "      <th>...</th>\n",
       "      <td>...</td>\n",
       "      <td>...</td>\n",
       "      <td>...</td>\n",
       "      <td>...</td>\n",
       "      <td>...</td>\n",
       "      <td>...</td>\n",
       "      <td>...</td>\n",
       "      <td>...</td>\n",
       "      <td>...</td>\n",
       "      <td>...</td>\n",
       "    </tr>\n",
       "    <tr>\n",
       "      <th>94909</th>\n",
       "      <td>279218_1871173.jpg</td>\n",
       "      <td>0</td>\n",
       "      <td>0</td>\n",
       "      <td>0</td>\n",
       "      <td>1</td>\n",
       "      <td>0</td>\n",
       "      <td>0</td>\n",
       "      <td>Arjun</td>\n",
       "      <td>jpg</td>\n",
       "      <td>5</td>\n",
       "    </tr>\n",
       "    <tr>\n",
       "      <th>94910</th>\n",
       "      <td>279385_1872264.jpg</td>\n",
       "      <td>0</td>\n",
       "      <td>0</td>\n",
       "      <td>1</td>\n",
       "      <td>0</td>\n",
       "      <td>0</td>\n",
       "      <td>0</td>\n",
       "      <td>Arjun</td>\n",
       "      <td>jpg</td>\n",
       "      <td>2</td>\n",
       "    </tr>\n",
       "    <tr>\n",
       "      <th>94911</th>\n",
       "      <td>279413_1872492.jpg</td>\n",
       "      <td>0</td>\n",
       "      <td>0</td>\n",
       "      <td>0</td>\n",
       "      <td>1</td>\n",
       "      <td>0</td>\n",
       "      <td>0</td>\n",
       "      <td>Arjun</td>\n",
       "      <td>jpg</td>\n",
       "      <td>5</td>\n",
       "    </tr>\n",
       "    <tr>\n",
       "      <th>94912</th>\n",
       "      <td>279413_1872493.jpg</td>\n",
       "      <td>0</td>\n",
       "      <td>0</td>\n",
       "      <td>0</td>\n",
       "      <td>1</td>\n",
       "      <td>0</td>\n",
       "      <td>0</td>\n",
       "      <td>Arjun</td>\n",
       "      <td>jpg</td>\n",
       "      <td>5</td>\n",
       "    </tr>\n",
       "    <tr>\n",
       "      <th>94913</th>\n",
       "      <td>279445_1872749.jpg</td>\n",
       "      <td>0</td>\n",
       "      <td>0</td>\n",
       "      <td>1</td>\n",
       "      <td>0</td>\n",
       "      <td>0</td>\n",
       "      <td>0</td>\n",
       "      <td>Arjun</td>\n",
       "      <td>jpg</td>\n",
       "      <td>2</td>\n",
       "    </tr>\n",
       "  </tbody>\n",
       "</table>\n",
       "<p>94908 rows × 10 columns</p>\n",
       "</div>"
      ],
      "text/plain": [
       "                      img  Interior_Left  Interior_Right  Exterior  Other  \\\n",
       "1      169814_1085328.jpg              0               0         0      1   \n",
       "3      169855_1085384.jpg              0               0         0      1   \n",
       "4      169855_1085388.jpg              0               0         0      1   \n",
       "5      169855_1085389.jpg              0               0         0      1   \n",
       "8      169867_1085473.jpg              0               0         0      1   \n",
       "...                   ...            ...             ...       ...    ...   \n",
       "94909  279218_1871173.jpg              0               0         0      1   \n",
       "94910  279385_1872264.jpg              0               0         1      0   \n",
       "94911  279413_1872492.jpg              0               0         0      1   \n",
       "94912  279413_1872493.jpg              0               0         0      1   \n",
       "94913  279445_1872749.jpg              0               0         1      0   \n",
       "\n",
       "       Canon_Left  Canon_Right Grader New_Extension  labels  \n",
       "1               0            0   Lynn           jpg       5  \n",
       "3               0            0   Lynn           jpg       5  \n",
       "4               0            0   Lynn           jpg       5  \n",
       "5               0            0   Lynn           jpg       5  \n",
       "8               0            0   Lynn           jpg       5  \n",
       "...           ...          ...    ...           ...     ...  \n",
       "94909           0            0  Arjun           jpg       5  \n",
       "94910           0            0  Arjun           jpg       2  \n",
       "94911           0            0  Arjun           jpg       5  \n",
       "94912           0            0  Arjun           jpg       5  \n",
       "94913           0            0  Arjun           jpg       2  \n",
       "\n",
       "[94908 rows x 10 columns]"
      ]
     },
     "execution_count": 41,
     "metadata": {},
     "output_type": "execute_result"
    }
   ],
   "source": [
    "total_laterality[total_laterality.duplicated(subset=['labels'])]"
   ]
  },
  {
   "cell_type": "code",
   "execution_count": 37,
   "metadata": {},
   "outputs": [
    {
     "data": {
      "text/plain": [
       "Index([], dtype='object')"
      ]
     },
     "execution_count": 37,
     "metadata": {},
     "output_type": "execute_result"
    }
   ],
   "source": [
    "total_laterality.columns[(total_laterality == 1).all()]"
   ]
  },
  {
   "cell_type": "code",
   "execution_count": 98,
   "metadata": {},
   "outputs": [],
   "source": [
    "total_laterality.to_csv('total_laterality_master_file.csv',index=False)"
   ]
  },
  {
   "cell_type": "code",
   "execution_count": 99,
   "metadata": {},
   "outputs": [
    {
     "data": {
      "text/html": [
       "<div>\n",
       "<style scoped>\n",
       "    .dataframe tbody tr th:only-of-type {\n",
       "        vertical-align: middle;\n",
       "    }\n",
       "\n",
       "    .dataframe tbody tr th {\n",
       "        vertical-align: top;\n",
       "    }\n",
       "\n",
       "    .dataframe thead th {\n",
       "        text-align: right;\n",
       "    }\n",
       "</style>\n",
       "<table border=\"1\" class=\"dataframe\">\n",
       "  <thead>\n",
       "    <tr style=\"text-align: right;\">\n",
       "      <th></th>\n",
       "      <th>img</th>\n",
       "      <th>Interior_Left</th>\n",
       "      <th>Interior_Right</th>\n",
       "      <th>Exterior</th>\n",
       "      <th>Other</th>\n",
       "      <th>Canon_Left</th>\n",
       "      <th>Canon_Right</th>\n",
       "      <th>Grader</th>\n",
       "      <th>New_Extension</th>\n",
       "      <th>labels</th>\n",
       "    </tr>\n",
       "  </thead>\n",
       "  <tbody>\n",
       "    <tr>\n",
       "      <th>0</th>\n",
       "      <td>169814_1085325.jpg</td>\n",
       "      <td>0</td>\n",
       "      <td>0</td>\n",
       "      <td>0</td>\n",
       "      <td>1</td>\n",
       "      <td>0</td>\n",
       "      <td>0</td>\n",
       "      <td>Lynn</td>\n",
       "      <td>jpg</td>\n",
       "      <td>5</td>\n",
       "    </tr>\n",
       "    <tr>\n",
       "      <th>1</th>\n",
       "      <td>169814_1085328.jpg</td>\n",
       "      <td>0</td>\n",
       "      <td>0</td>\n",
       "      <td>0</td>\n",
       "      <td>1</td>\n",
       "      <td>0</td>\n",
       "      <td>0</td>\n",
       "      <td>Lynn</td>\n",
       "      <td>jpg</td>\n",
       "      <td>5</td>\n",
       "    </tr>\n",
       "    <tr>\n",
       "      <th>2</th>\n",
       "      <td>169855_1085382.jpg</td>\n",
       "      <td>0</td>\n",
       "      <td>0</td>\n",
       "      <td>1</td>\n",
       "      <td>0</td>\n",
       "      <td>0</td>\n",
       "      <td>0</td>\n",
       "      <td>Lynn</td>\n",
       "      <td>jpg</td>\n",
       "      <td>2</td>\n",
       "    </tr>\n",
       "    <tr>\n",
       "      <th>3</th>\n",
       "      <td>169855_1085384.jpg</td>\n",
       "      <td>0</td>\n",
       "      <td>0</td>\n",
       "      <td>0</td>\n",
       "      <td>1</td>\n",
       "      <td>0</td>\n",
       "      <td>0</td>\n",
       "      <td>Lynn</td>\n",
       "      <td>jpg</td>\n",
       "      <td>5</td>\n",
       "    </tr>\n",
       "    <tr>\n",
       "      <th>4</th>\n",
       "      <td>169855_1085388.jpg</td>\n",
       "      <td>0</td>\n",
       "      <td>0</td>\n",
       "      <td>0</td>\n",
       "      <td>1</td>\n",
       "      <td>0</td>\n",
       "      <td>0</td>\n",
       "      <td>Lynn</td>\n",
       "      <td>jpg</td>\n",
       "      <td>5</td>\n",
       "    </tr>\n",
       "    <tr>\n",
       "      <th>...</th>\n",
       "      <td>...</td>\n",
       "      <td>...</td>\n",
       "      <td>...</td>\n",
       "      <td>...</td>\n",
       "      <td>...</td>\n",
       "      <td>...</td>\n",
       "      <td>...</td>\n",
       "      <td>...</td>\n",
       "      <td>...</td>\n",
       "      <td>...</td>\n",
       "    </tr>\n",
       "    <tr>\n",
       "      <th>94863</th>\n",
       "      <td>279218_1871173.jpg</td>\n",
       "      <td>0</td>\n",
       "      <td>0</td>\n",
       "      <td>0</td>\n",
       "      <td>1</td>\n",
       "      <td>0</td>\n",
       "      <td>0</td>\n",
       "      <td>Arjun</td>\n",
       "      <td>jpg</td>\n",
       "      <td>5</td>\n",
       "    </tr>\n",
       "    <tr>\n",
       "      <th>94864</th>\n",
       "      <td>279385_1872264.jpg</td>\n",
       "      <td>0</td>\n",
       "      <td>0</td>\n",
       "      <td>1</td>\n",
       "      <td>0</td>\n",
       "      <td>0</td>\n",
       "      <td>0</td>\n",
       "      <td>Arjun</td>\n",
       "      <td>jpg</td>\n",
       "      <td>2</td>\n",
       "    </tr>\n",
       "    <tr>\n",
       "      <th>94865</th>\n",
       "      <td>279413_1872492.jpg</td>\n",
       "      <td>0</td>\n",
       "      <td>0</td>\n",
       "      <td>0</td>\n",
       "      <td>1</td>\n",
       "      <td>0</td>\n",
       "      <td>0</td>\n",
       "      <td>Arjun</td>\n",
       "      <td>jpg</td>\n",
       "      <td>5</td>\n",
       "    </tr>\n",
       "    <tr>\n",
       "      <th>94866</th>\n",
       "      <td>279413_1872493.jpg</td>\n",
       "      <td>0</td>\n",
       "      <td>0</td>\n",
       "      <td>0</td>\n",
       "      <td>1</td>\n",
       "      <td>0</td>\n",
       "      <td>0</td>\n",
       "      <td>Arjun</td>\n",
       "      <td>jpg</td>\n",
       "      <td>5</td>\n",
       "    </tr>\n",
       "    <tr>\n",
       "      <th>94867</th>\n",
       "      <td>279445_1872749.jpg</td>\n",
       "      <td>0</td>\n",
       "      <td>0</td>\n",
       "      <td>1</td>\n",
       "      <td>0</td>\n",
       "      <td>0</td>\n",
       "      <td>0</td>\n",
       "      <td>Arjun</td>\n",
       "      <td>jpg</td>\n",
       "      <td>2</td>\n",
       "    </tr>\n",
       "  </tbody>\n",
       "</table>\n",
       "<p>94868 rows × 10 columns</p>\n",
       "</div>"
      ],
      "text/plain": [
       "                      img  Interior_Left  Interior_Right  Exterior  Other  \\\n",
       "0      169814_1085325.jpg              0               0         0      1   \n",
       "1      169814_1085328.jpg              0               0         0      1   \n",
       "2      169855_1085382.jpg              0               0         1      0   \n",
       "3      169855_1085384.jpg              0               0         0      1   \n",
       "4      169855_1085388.jpg              0               0         0      1   \n",
       "...                   ...            ...             ...       ...    ...   \n",
       "94863  279218_1871173.jpg              0               0         0      1   \n",
       "94864  279385_1872264.jpg              0               0         1      0   \n",
       "94865  279413_1872492.jpg              0               0         0      1   \n",
       "94866  279413_1872493.jpg              0               0         0      1   \n",
       "94867  279445_1872749.jpg              0               0         1      0   \n",
       "\n",
       "       Canon_Left  Canon_Right Grader New_Extension  labels  \n",
       "0               0            0   Lynn           jpg       5  \n",
       "1               0            0   Lynn           jpg       5  \n",
       "2               0            0   Lynn           jpg       2  \n",
       "3               0            0   Lynn           jpg       5  \n",
       "4               0            0   Lynn           jpg       5  \n",
       "...           ...          ...    ...           ...     ...  \n",
       "94863           0            0  Arjun           jpg       5  \n",
       "94864           0            0  Arjun           jpg       2  \n",
       "94865           0            0  Arjun           jpg       5  \n",
       "94866           0            0  Arjun           jpg       5  \n",
       "94867           0            0  Arjun           jpg       2  \n",
       "\n",
       "[94868 rows x 10 columns]"
      ]
     },
     "execution_count": 99,
     "metadata": {},
     "output_type": "execute_result"
    }
   ],
   "source": [
    "total_laterality"
   ]
  },
  {
   "cell_type": "code",
   "execution_count": 100,
   "metadata": {},
   "outputs": [
    {
     "data": {
      "text/plain": [
       "5    45067\n",
       "2    22385\n",
       "3     8071\n",
       "4     7993\n",
       "0     6179\n",
       "1     5173\n",
       "Name: labels, dtype: int64"
      ]
     },
     "execution_count": 100,
     "metadata": {},
     "output_type": "execute_result"
    }
   ],
   "source": [
    "total_laterality['labels'].value_counts()"
   ]
  },
  {
   "cell_type": "code",
   "execution_count": 101,
   "metadata": {},
   "outputs": [],
   "source": [
    "## Checking the file input"
   ]
  },
  {
   "cell_type": "code",
   "execution_count": 106,
   "metadata": {},
   "outputs": [],
   "source": [
    "train_csv_file = '/Users/swastik/ophthalmology/Master_Daddy_Project/Laterality/Stage_files/Split_Final_Staged_Files/Total/total_laterality_train_2023-03-30_17-42-47.csv'\n",
    "valid_csv_file = '/Users/swastik/ophthalmology/Master_Daddy_Project/Laterality/Stage_files/Split_Final_Staged_Files/Total/total_laterality_valid_2023-03-30_17-42-47.csv'\n",
    "test_csv_file = '/Users/swastik/ophthalmology/Master_Daddy_Project/Laterality/Stage_files/Split_Final_Staged_Files/Total/total_laterality_test_2023-03-30_17-42-47.csv'\n",
    "df_train = pd.read_csv(train_csv_file, engine='python').iloc[:, :]\n",
    "df_valid = pd.read_csv(valid_csv_file, engine='python').iloc[:, :]\n",
    "df_test = pd.read_csv(test_csv_file, engine='python').iloc[:, :]\n"
   ]
  },
  {
   "cell_type": "code",
   "execution_count": 107,
   "metadata": {},
   "outputs": [
    {
     "data": {
      "text/html": [
       "<div>\n",
       "<style scoped>\n",
       "    .dataframe tbody tr th:only-of-type {\n",
       "        vertical-align: middle;\n",
       "    }\n",
       "\n",
       "    .dataframe tbody tr th {\n",
       "        vertical-align: top;\n",
       "    }\n",
       "\n",
       "    .dataframe thead th {\n",
       "        text-align: right;\n",
       "    }\n",
       "</style>\n",
       "<table border=\"1\" class=\"dataframe\">\n",
       "  <thead>\n",
       "    <tr style=\"text-align: right;\">\n",
       "      <th></th>\n",
       "      <th>img</th>\n",
       "      <th>Interior_Left</th>\n",
       "      <th>Interior_Right</th>\n",
       "      <th>Exterior</th>\n",
       "      <th>Other</th>\n",
       "      <th>Canon_Left</th>\n",
       "      <th>Canon_Right</th>\n",
       "      <th>Grader</th>\n",
       "      <th>New_Extension</th>\n",
       "      <th>labels</th>\n",
       "    </tr>\n",
       "  </thead>\n",
       "  <tbody>\n",
       "    <tr>\n",
       "      <th>0</th>\n",
       "      <td>181481_1161659.jpg</td>\n",
       "      <td>0</td>\n",
       "      <td>0</td>\n",
       "      <td>0</td>\n",
       "      <td>1</td>\n",
       "      <td>0</td>\n",
       "      <td>0</td>\n",
       "      <td>Varun</td>\n",
       "      <td>jpg</td>\n",
       "      <td>5</td>\n",
       "    </tr>\n",
       "    <tr>\n",
       "      <th>1</th>\n",
       "      <td>313152_2133751.jpg</td>\n",
       "      <td>0</td>\n",
       "      <td>0</td>\n",
       "      <td>0</td>\n",
       "      <td>1</td>\n",
       "      <td>0</td>\n",
       "      <td>0</td>\n",
       "      <td>Michael</td>\n",
       "      <td>jpg</td>\n",
       "      <td>5</td>\n",
       "    </tr>\n",
       "    <tr>\n",
       "      <th>2</th>\n",
       "      <td>189275_1215650.jpg</td>\n",
       "      <td>0</td>\n",
       "      <td>0</td>\n",
       "      <td>0</td>\n",
       "      <td>1</td>\n",
       "      <td>0</td>\n",
       "      <td>0</td>\n",
       "      <td>Lynn</td>\n",
       "      <td>jpg</td>\n",
       "      <td>5</td>\n",
       "    </tr>\n",
       "    <tr>\n",
       "      <th>3</th>\n",
       "      <td>325402_2229298.jpg</td>\n",
       "      <td>0</td>\n",
       "      <td>0</td>\n",
       "      <td>0</td>\n",
       "      <td>1</td>\n",
       "      <td>0</td>\n",
       "      <td>0</td>\n",
       "      <td>Ignacio</td>\n",
       "      <td>jpg</td>\n",
       "      <td>5</td>\n",
       "    </tr>\n",
       "    <tr>\n",
       "      <th>4</th>\n",
       "      <td>278795_1868121.jpg</td>\n",
       "      <td>0</td>\n",
       "      <td>0</td>\n",
       "      <td>0</td>\n",
       "      <td>1</td>\n",
       "      <td>0</td>\n",
       "      <td>0</td>\n",
       "      <td>Ignacio</td>\n",
       "      <td>jpg</td>\n",
       "      <td>5</td>\n",
       "    </tr>\n",
       "    <tr>\n",
       "      <th>...</th>\n",
       "      <td>...</td>\n",
       "      <td>...</td>\n",
       "      <td>...</td>\n",
       "      <td>...</td>\n",
       "      <td>...</td>\n",
       "      <td>...</td>\n",
       "      <td>...</td>\n",
       "      <td>...</td>\n",
       "      <td>...</td>\n",
       "      <td>...</td>\n",
       "    </tr>\n",
       "    <tr>\n",
       "      <th>75891</th>\n",
       "      <td>219491_1437074.jpg</td>\n",
       "      <td>0</td>\n",
       "      <td>0</td>\n",
       "      <td>1</td>\n",
       "      <td>0</td>\n",
       "      <td>0</td>\n",
       "      <td>0</td>\n",
       "      <td>Lynn</td>\n",
       "      <td>jpg</td>\n",
       "      <td>2</td>\n",
       "    </tr>\n",
       "    <tr>\n",
       "      <th>75892</th>\n",
       "      <td>67126_316387.jpg</td>\n",
       "      <td>0</td>\n",
       "      <td>0</td>\n",
       "      <td>0</td>\n",
       "      <td>1</td>\n",
       "      <td>0</td>\n",
       "      <td>0</td>\n",
       "      <td>Michael</td>\n",
       "      <td>jpg</td>\n",
       "      <td>5</td>\n",
       "    </tr>\n",
       "    <tr>\n",
       "      <th>75893</th>\n",
       "      <td>301296_2039105.jpg</td>\n",
       "      <td>0</td>\n",
       "      <td>0</td>\n",
       "      <td>1</td>\n",
       "      <td>0</td>\n",
       "      <td>0</td>\n",
       "      <td>0</td>\n",
       "      <td>Varun</td>\n",
       "      <td>jpg</td>\n",
       "      <td>2</td>\n",
       "    </tr>\n",
       "    <tr>\n",
       "      <th>75894</th>\n",
       "      <td>177979_1137436.jpg</td>\n",
       "      <td>0</td>\n",
       "      <td>0</td>\n",
       "      <td>1</td>\n",
       "      <td>0</td>\n",
       "      <td>0</td>\n",
       "      <td>0</td>\n",
       "      <td>Lynn</td>\n",
       "      <td>jpg</td>\n",
       "      <td>2</td>\n",
       "    </tr>\n",
       "    <tr>\n",
       "      <th>75895</th>\n",
       "      <td>288512_1938978.jpg</td>\n",
       "      <td>0</td>\n",
       "      <td>0</td>\n",
       "      <td>0</td>\n",
       "      <td>1</td>\n",
       "      <td>0</td>\n",
       "      <td>0</td>\n",
       "      <td>Lynn</td>\n",
       "      <td>jpg</td>\n",
       "      <td>5</td>\n",
       "    </tr>\n",
       "  </tbody>\n",
       "</table>\n",
       "<p>75896 rows × 10 columns</p>\n",
       "</div>"
      ],
      "text/plain": [
       "                      img  Interior_Left  Interior_Right  Exterior  Other  \\\n",
       "0      181481_1161659.jpg              0               0         0      1   \n",
       "1      313152_2133751.jpg              0               0         0      1   \n",
       "2      189275_1215650.jpg              0               0         0      1   \n",
       "3      325402_2229298.jpg              0               0         0      1   \n",
       "4      278795_1868121.jpg              0               0         0      1   \n",
       "...                   ...            ...             ...       ...    ...   \n",
       "75891  219491_1437074.jpg              0               0         1      0   \n",
       "75892    67126_316387.jpg              0               0         0      1   \n",
       "75893  301296_2039105.jpg              0               0         1      0   \n",
       "75894  177979_1137436.jpg              0               0         1      0   \n",
       "75895  288512_1938978.jpg              0               0         0      1   \n",
       "\n",
       "       Canon_Left  Canon_Right   Grader New_Extension  labels  \n",
       "0               0            0    Varun           jpg       5  \n",
       "1               0            0  Michael           jpg       5  \n",
       "2               0            0     Lynn           jpg       5  \n",
       "3               0            0  Ignacio           jpg       5  \n",
       "4               0            0  Ignacio           jpg       5  \n",
       "...           ...          ...      ...           ...     ...  \n",
       "75891           0            0     Lynn           jpg       2  \n",
       "75892           0            0  Michael           jpg       5  \n",
       "75893           0            0    Varun           jpg       2  \n",
       "75894           0            0     Lynn           jpg       2  \n",
       "75895           0            0     Lynn           jpg       5  \n",
       "\n",
       "[75896 rows x 10 columns]"
      ]
     },
     "execution_count": 107,
     "metadata": {},
     "output_type": "execute_result"
    }
   ],
   "source": [
    "df_train"
   ]
  },
  {
   "cell_type": "code",
   "execution_count": 111,
   "metadata": {},
   "outputs": [
    {
     "data": {
      "text/plain": [
       "Michael    19586\n",
       "Lynn       19194\n",
       "Ignacio    18910\n",
       "Varun      15581\n",
       "Arjun       2625\n",
       "Name: Grader, dtype: int64"
      ]
     },
     "execution_count": 111,
     "metadata": {},
     "output_type": "execute_result"
    }
   ],
   "source": [
    "df_train['Grader'].value_counts()"
   ]
  },
  {
   "cell_type": "code",
   "execution_count": 112,
   "metadata": {},
   "outputs": [
    {
     "data": {
      "text/plain": [
       "Varun      2744\n",
       "Lynn       2440\n",
       "Ignacio    2422\n",
       "Michael    1695\n",
       "Arjun       185\n",
       "Name: Grader, dtype: int64"
      ]
     },
     "execution_count": 112,
     "metadata": {},
     "output_type": "execute_result"
    }
   ],
   "source": [
    "df_valid['Grader'].value_counts()"
   ]
  },
  {
   "cell_type": "code",
   "execution_count": 113,
   "metadata": {},
   "outputs": [
    {
     "data": {
      "text/plain": [
       "Varun      2763\n",
       "Ignacio    2429\n",
       "Lynn       2374\n",
       "Michael    1730\n",
       "Arjun       190\n",
       "Name: Grader, dtype: int64"
      ]
     },
     "execution_count": 113,
     "metadata": {},
     "output_type": "execute_result"
    }
   ],
   "source": [
    "df_test['Grader'].value_counts()"
   ]
  },
  {
   "cell_type": "code",
   "execution_count": null,
   "metadata": {},
   "outputs": [],
   "source": []
  }
 ],
 "metadata": {
  "kernelspec": {
   "display_name": "opt",
   "language": "python",
   "name": "python3"
  },
  "language_info": {
   "codemirror_mode": {
    "name": "ipython",
    "version": 3
   },
   "file_extension": ".py",
   "mimetype": "text/x-python",
   "name": "python",
   "nbconvert_exporter": "python",
   "pygments_lexer": "ipython3",
   "version": "3.7.6"
  },
  "orig_nbformat": 4,
  "vscode": {
   "interpreter": {
    "hash": "77ce42df82f06134cd1449ce0caa17a802c20da0ff443670edc4e483b7be4b90"
   }
  }
 },
 "nbformat": 4,
 "nbformat_minor": 2
}
