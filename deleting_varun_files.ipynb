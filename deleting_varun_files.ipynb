{
 "cells": [
  {
   "cell_type": "code",
   "execution_count": 1,
   "metadata": {},
   "outputs": [],
   "source": [
    "import pandas as pd\n",
    "import glob\n",
    "import os"
   ]
  },
  {
   "cell_type": "code",
   "execution_count": 5,
   "metadata": {},
   "outputs": [],
   "source": [
    "old_file1 = '/home/iscreen/Sierra/Master_Daddy_Project/Laterality/Stage_files/Final_Staged_Files/laterality_labels_binary.csv'\n",
    "old_file2 = '/home/iscreen/Sierra/Master_Daddy_Project/Laterality/Stage_files/Final_Staged_Files/laterality_labels_canon_binary.csv'\n",
    "old_file3 = '/home/iscreen/Sierra/Master_Daddy_Project/Laterality/Stage_files/Final_Staged_Files/laterality_labels_quad.csv'\n",
    "old_file4 = '/home/iscreen/Sierra/Master_Daddy_Project/Laterality/Stage_files/Final_Staged_Files/laterality_labels_pent.csv'"
   ]
  },
  {
   "cell_type": "code",
   "execution_count": 6,
   "metadata": {},
   "outputs": [],
   "source": [
    "df1 = pd.read_csv(old_file1)\n",
    "df2 = pd.read_csv(old_file2)\n",
    "df3 = pd.read_csv(old_file3)\n",
    "df4 = pd.read_csv(old_file4)"
   ]
  },
  {
   "cell_type": "code",
   "execution_count": 7,
   "metadata": {},
   "outputs": [
    {
     "name": "stdout",
     "output_type": "stream",
     "text": [
      "binary:11402, canon:16179, quad:27579, pent:72739\n"
     ]
    }
   ],
   "source": [
    "print(f'binary:{len(df1)}, canon:{len(df2)}, quad:{len(df3)}, pent:{len(df4)}')"
   ]
  },
  {
   "cell_type": "code",
   "execution_count": 14,
   "metadata": {},
   "outputs": [],
   "source": [
    "df4 = df4[~df4.duplicated(subset='img')]"
   ]
  },
  {
   "cell_type": "code",
   "execution_count": 16,
   "metadata": {},
   "outputs": [],
   "source": [
    "df1 = df1[~df1.duplicated(subset='img')]\n",
    "df2 = df2[~df2.duplicated(subset='img')]\n",
    "df3 = df3[~df3.duplicated(subset='img')]\n",
    "\n"
   ]
  },
  {
   "cell_type": "code",
   "execution_count": 18,
   "metadata": {},
   "outputs": [
    {
     "name": "stdout",
     "output_type": "stream",
     "text": [
      "binary:11400, canon:16178, quad:27570, pent:72535\n"
     ]
    }
   ],
   "source": [
    "print(f'binary:{len(df1)}, canon:{len(df2)}, quad:{len(df3)}, pent:{len(df4)}')"
   ]
  },
  {
   "cell_type": "code",
   "execution_count": 19,
   "metadata": {},
   "outputs": [],
   "source": [
    "binary_folder_path = '/home/iscreen/Laterality_Data/Binary'\n",
    "canon_folder_path = '/home/iscreen/Laterality_Data/Canon'\n",
    "quad_folder_path = '/home/iscreen/Laterality_Data/Quad'\n",
    "pent_folder_path = '/home/iscreen/Laterality_Data/Pent'\n",
    "\n",
    "binary_folder_files = os.listdir(binary_folder_path)\n",
    "canon_folder_files = os.listdir(canon_folder_path)\n",
    "quad_folder_files = os.listdir(quad_folder_path)\n",
    "pent_folder_files = os.listdir(pent_folder_path)"
   ]
  },
  {
   "cell_type": "code",
   "execution_count": 20,
   "metadata": {},
   "outputs": [
    {
     "name": "stdout",
     "output_type": "stream",
     "text": [
      "binary:8239, canon:11486, quad:19718, pent:54217\n"
     ]
    }
   ],
   "source": [
    "print(f'binary:{len(binary_folder_files)}, canon:{len(canon_folder_files)}, quad:{len(quad_folder_files)}, pent:{len(pent_folder_files)}')"
   ]
  },
  {
   "cell_type": "code",
   "execution_count": 21,
   "metadata": {},
   "outputs": [],
   "source": [
    "mod_binary = df1[df1['img'].isin(binary_folder_files)]\n",
    "mod_canon = df2[df2['img'].isin(canon_folder_files)]\n",
    "mod_quad = df3[df3['img'].isin(quad_folder_files)]\n",
    "mod_pent = df4[df4['img'].isin(pent_folder_files)]\n"
   ]
  },
  {
   "cell_type": "code",
   "execution_count": 22,
   "metadata": {},
   "outputs": [
    {
     "name": "stdout",
     "output_type": "stream",
     "text": [
      "binary:8239, canon:11486, quad:19718, pent:54217\n"
     ]
    }
   ],
   "source": [
    "print(f'binary:{len(mod_binary)}, canon:{len(mod_canon)}, quad:{len(mod_quad)}, pent:{len(mod_pent)}')"
   ]
  },
  {
   "cell_type": "code",
   "execution_count": 24,
   "metadata": {},
   "outputs": [],
   "source": [
    "mod_binary.to_csv('/home/iscreen/Sierra/Master_Daddy_Project/Laterality/Stage_files/Final_Staged_Files/laterality_labels_binary.csv', index=False)\n",
    "mod_canon.to_csv('/home/iscreen/Sierra/Master_Daddy_Project/Laterality/Stage_files/Final_Staged_Files/laterality_labels_canon_binary.csv', index=False)\n",
    "mod_quad.to_csv('/home/iscreen/Sierra/Master_Daddy_Project/Laterality/Stage_files/Final_Staged_Files/laterality_labels_quad.csv', index=False)\n",
    "mod_pent.to_csv('/home/iscreen/Sierra/Master_Daddy_Project/Laterality/Stage_files/Final_Staged_Files/laterality_labels_pent.csv', index=False)\n"
   ]
  },
  {
   "cell_type": "code",
   "execution_count": null,
   "metadata": {},
   "outputs": [],
   "source": []
  }
 ],
 "metadata": {
  "kernelspec": {
   "display_name": "laterality",
   "language": "python",
   "name": "python3"
  },
  "language_info": {
   "codemirror_mode": {
    "name": "ipython",
    "version": 3
   },
   "file_extension": ".py",
   "mimetype": "text/x-python",
   "name": "python",
   "nbconvert_exporter": "python",
   "pygments_lexer": "ipython3",
   "version": "3.10.8"
  },
  "orig_nbformat": 4
 },
 "nbformat": 4,
 "nbformat_minor": 2
}
