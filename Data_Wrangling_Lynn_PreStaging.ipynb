{
 "cells": [
  {
   "cell_type": "code",
   "execution_count": 2,
   "metadata": {},
   "outputs": [],
   "source": [
    "import os"
   ]
  },
  {
   "cell_type": "code",
   "execution_count": 6,
   "metadata": {},
   "outputs": [],
   "source": [
    "dir = '/Users/swastik/ophthalmology/Daddy_Project/Laterality/Data_Staging/Input_files/subset_5'\n",
    "list = os.walk(dir)"
   ]
  },
  {
   "cell_type": "code",
   "execution_count": 7,
   "metadata": {},
   "outputs": [
    {
     "data": {
      "text/plain": [
       "197"
      ]
     },
     "execution_count": 7,
     "metadata": {},
     "output_type": "execute_result"
    }
   ],
   "source": [
    "val = [x[0] for x in os.walk(dir)]\n",
    "len(val)\n"
   ]
  },
  {
   "cell_type": "code",
   "execution_count": 21,
   "metadata": {},
   "outputs": [
    {
     "data": {
      "text/plain": [
       "str"
      ]
     },
     "execution_count": 21,
     "metadata": {},
     "output_type": "execute_result"
    }
   ],
   "source": [
    "type(os.path.basename(os.path.normpath(val[2])))"
   ]
  },
  {
   "cell_type": "code",
   "execution_count": 29,
   "metadata": {},
   "outputs": [
    {
     "data": {
      "text/plain": [
       "True"
      ]
     },
     "execution_count": 29,
     "metadata": {},
     "output_type": "execute_result"
    }
   ],
   "source": [
    "a = os.path.basename(os.path.normpath(val[1]))\n",
    "a.isdigit()"
   ]
  },
  {
   "cell_type": "code",
   "execution_count": 8,
   "metadata": {},
   "outputs": [],
   "source": [
    "number_folder = []\n",
    "for nums in range(len(val)):\n",
    "    a = os.path.basename(os.path.normpath(val[nums]))\n",
    "    if a.isdigit():\n",
    "        number_folder.append(val[nums])\n",
    "    \n",
    "\n"
   ]
  },
  {
   "cell_type": "code",
   "execution_count": 9,
   "metadata": {},
   "outputs": [
    {
     "data": {
      "text/plain": [
       "['/Users/swastik/ophthalmology/Daddy_Project/Laterality/Data_Staging/Input_files/subset_5/024',\n",
       " '/Users/swastik/ophthalmology/Daddy_Project/Laterality/Data_Staging/Input_files/subset_5/023',\n",
       " '/Users/swastik/ophthalmology/Daddy_Project/Laterality/Data_Staging/Input_files/subset_5/015',\n",
       " '/Users/swastik/ophthalmology/Daddy_Project/Laterality/Data_Staging/Input_files/subset_5/012',\n",
       " '/Users/swastik/ophthalmology/Daddy_Project/Laterality/Data_Staging/Input_files/subset_5/079']"
      ]
     },
     "execution_count": 9,
     "metadata": {},
     "output_type": "execute_result"
    }
   ],
   "source": [
    "number_folder[:5]"
   ]
  },
  {
   "cell_type": "code",
   "execution_count": 18,
   "metadata": {},
   "outputs": [
    {
     "data": {
      "text/plain": [
       "'3output'"
      ]
     },
     "execution_count": 18,
     "metadata": {},
     "output_type": "execute_result"
    }
   ],
   "source": [
    "#https://stackoverflow.com/questions/973473/getting-a-list-of-all-subdirectories-in-the-current-directory\n",
    "a = next(os.walk(number_folder[1]))[1]\n",
    "a = \"3\" + ''.join(a)\n",
    "a"
   ]
  },
  {
   "cell_type": "code",
   "execution_count": 9,
   "metadata": {},
   "outputs": [
    {
     "data": {
      "text/plain": [
       "['assigned_classes.csv', 'assigned_classes_automatically_generated.csv']"
      ]
     },
     "execution_count": 9,
     "metadata": {},
     "output_type": "execute_result"
    }
   ],
   "source": [
    "os.listdir('/Users/swastik/ophthalmology/Daddy_Project/Laterality/Data_Staging/Input_files/subset_4/024/output024/')"
   ]
  },
  {
   "cell_type": "code",
   "execution_count": 10,
   "metadata": {},
   "outputs": [],
   "source": [
    "## Renaming the Same Subfolders\n",
    "import shutil\n",
    "for i in range(len(number_folder)):\n",
    "    src_dir = number_folder[i]\n",
    "    files = next(os.walk(src_dir))[1]\n",
    "    files = ''.join(files)\n",
    "    suffix = os.path.basename(os.path.normpath(src_dir))\n",
    "    string_files = ''.join(files)+'_'+suffix\n",
    "    os.rename(os.path.join(src_dir,files),os.path.join(src_dir,string_files))\n"
   ]
  },
  {
   "cell_type": "code",
   "execution_count": 82,
   "metadata": {},
   "outputs": [
    {
     "data": {
      "text/plain": [
       "'/Users/swastik/ophthalmology/Daddy_Project/Laterality/Data_Staging/Input_files/subset_4/024/output_024'"
      ]
     },
     "execution_count": 82,
     "metadata": {},
     "output_type": "execute_result"
    }
   ],
   "source": [
    "new_path = '/Users/swastik/ophthalmology/Daddy_Project/Laterality/Data_Staging/Input_files/subset_4/024/output_024/assigned_classes.csv'\n",
    "beta = os.path.basename(new_path)\n",
    "# os.path.splitext(os.path.basename(new_path))\n",
    "os.path.dirname(new_path)\n"
   ]
  },
  {
   "cell_type": "code",
   "execution_count": 11,
   "metadata": {},
   "outputs": [],
   "source": [
    "## Rename the files\n",
    "import shutil\n",
    "for i in range(len(number_folder)):\n",
    "    src_dir = number_folder[i]\n",
    "    # print(src_dir)\n",
    "    files = next(os.walk(src_dir))[1]\n",
    "    # print(files)\n",
    "    files = ''.join(files)\n",
    "    sub_folder = os.path.join(src_dir,files)\n",
    "    # print(sub_folder)\n",
    "    sub_files = os.listdir(sub_folder)\n",
    "    suffix = os.path.basename(os.path.normpath(sub_folder))\n",
    "    # print(suffix)\n",
    "    for x in range(len(sub_files)):\n",
    "        single_path = os.path.join(sub_folder, sub_files[x])\n",
    "        if single_path.endswith('.csv'):\n",
    "            prefix =os.path.splitext(os.path.basename(single_path))[0]\n",
    "            dir_name = os.path.dirname(single_path)\n",
    "            os.rename(single_path,dir_name+\"/\"+prefix+\"_\"+suffix+'.csv')\n",
    "            #shutil.copy(single_path, dest+\"/\"+prefix+\"_\"+suffix+'.csv')"
   ]
  },
  {
   "cell_type": "code",
   "execution_count": 14,
   "metadata": {},
   "outputs": [],
   "source": [
    "## Copy the files\n",
    "source = '/Users/swastik/ophthalmology/Daddy_Project/Laterality/Data_Staging/Input_files/subset_5'\n",
    "new = '/Users/swastik/ophthalmology/Daddy_Project/Ignacio_Sorted'\n",
    "for root, dirs, files in os.walk(source):  # replace the . with your starting directory\n",
    "   for file in files:\n",
    "      path_file = os.path.join(root,file)\n",
    "      shutil.copy2(path_file,new) "
   ]
  },
  {
   "cell_type": "code",
   "execution_count": 23,
   "metadata": {},
   "outputs": [
    {
     "name": "stdout",
     "output_type": "stream",
     "text": [
      "output024\n",
      "/Users/swastik/ophthalmology/Daddy_Project/Laterality/Data_Staging/Input_files/subset_4/024/output024\n"
     ]
    }
   ],
   "source": [
    "import shutil\n",
    "dest = '/Users/swastik/ophthalmology/Daddy_Project/Laterality/Data_Staging/Lynn_sorted/'\n",
    "for i in range(len(number_folder)):\n",
    "    src_dir = number_folder[i]\n",
    "    files = next(os.walk(src_dir))[1]\n",
    "    files = ''.join(files)\n",
    "    print(files)\n",
    "    src = os.path.join(src_dir,files)\n",
    "    print(src)\n",
    "    break\n",
    "    # shutil.copytree(src, dest)"
   ]
  },
  {
   "cell_type": "code",
   "execution_count": 13,
   "metadata": {},
   "outputs": [
    {
     "name": "stdout",
     "output_type": "stream",
     "text": [
      "/Users/swastik/ophthalmology/Daddy_Project/Laterality/Data_Staging/Input_files/subset_5/094\n",
      "/Users/swastik/ophthalmology/Daddy_Project/Laterality/Data_Staging/Input_files/subset_5/024\n",
      "/Users/swastik/ophthalmology/Daddy_Project/Laterality/Data_Staging/Input_files/subset_5/023\n",
      "/Users/swastik/ophthalmology/Daddy_Project/Laterality/Data_Staging/Input_files/subset_5/015\n",
      "/Users/swastik/ophthalmology/Daddy_Project/Laterality/Data_Staging/Input_files/subset_5/012\n",
      "/Users/swastik/ophthalmology/Daddy_Project/Laterality/Data_Staging/Input_files/subset_5/079\n",
      "/Users/swastik/ophthalmology/Daddy_Project/Laterality/Data_Staging/Input_files/subset_5/046\n",
      "/Users/swastik/ophthalmology/Daddy_Project/Laterality/Data_Staging/Input_files/subset_5/041\n",
      "/Users/swastik/ophthalmology/Daddy_Project/Laterality/Data_Staging/Input_files/subset_5/048\n",
      "/Users/swastik/ophthalmology/Daddy_Project/Laterality/Data_Staging/Input_files/subset_5/077\n",
      "/Users/swastik/ophthalmology/Daddy_Project/Laterality/Data_Staging/Input_files/subset_5/083\n",
      "/Users/swastik/ophthalmology/Daddy_Project/Laterality/Data_Staging/Input_files/subset_5/084\n",
      "/Users/swastik/ophthalmology/Daddy_Project/Laterality/Data_Staging/Input_files/subset_5/070\n",
      "/Users/swastik/ophthalmology/Daddy_Project/Laterality/Data_Staging/Input_files/subset_5/013\n",
      "/Users/swastik/ophthalmology/Daddy_Project/Laterality/Data_Staging/Input_files/subset_5/014\n",
      "/Users/swastik/ophthalmology/Daddy_Project/Laterality/Data_Staging/Input_files/subset_5/022\n",
      "/Users/swastik/ophthalmology/Daddy_Project/Laterality/Data_Staging/Input_files/subset_5/025\n",
      "/Users/swastik/ophthalmology/Daddy_Project/Laterality/Data_Staging/Input_files/subset_5/071\n",
      "/Users/swastik/ophthalmology/Daddy_Project/Laterality/Data_Staging/Input_files/subset_5/085\n",
      "/Users/swastik/ophthalmology/Daddy_Project/Laterality/Data_Staging/Input_files/subset_5/049\n",
      "/Users/swastik/ophthalmology/Daddy_Project/Laterality/Data_Staging/Input_files/subset_5/082\n",
      "/Users/swastik/ophthalmology/Daddy_Project/Laterality/Data_Staging/Input_files/subset_5/076\n",
      "/Users/swastik/ophthalmology/Daddy_Project/Laterality/Data_Staging/Input_files/subset_5/040\n",
      "/Users/swastik/ophthalmology/Daddy_Project/Laterality/Data_Staging/Input_files/subset_5/078\n",
      "/Users/swastik/ophthalmology/Daddy_Project/Laterality/Data_Staging/Input_files/subset_5/047\n",
      "/Users/swastik/ophthalmology/Daddy_Project/Laterality/Data_Staging/Input_files/subset_5/065\n",
      "/Users/swastik/ophthalmology/Daddy_Project/Laterality/Data_Staging/Input_files/subset_5/091\n",
      "/Users/swastik/ophthalmology/Daddy_Project/Laterality/Data_Staging/Input_files/subset_5/096\n",
      "/Users/swastik/ophthalmology/Daddy_Project/Laterality/Data_Staging/Input_files/subset_5/062\n",
      "/Users/swastik/ophthalmology/Daddy_Project/Laterality/Data_Staging/Input_files/subset_5/054\n",
      "/Users/swastik/ophthalmology/Daddy_Project/Laterality/Data_Staging/Input_files/subset_5/053\n",
      "/Users/swastik/ophthalmology/Daddy_Project/Laterality/Data_Staging/Input_files/subset_5/098\n",
      "/Users/swastik/ophthalmology/Daddy_Project/Laterality/Data_Staging/Input_files/subset_5/038\n",
      "/Users/swastik/ophthalmology/Daddy_Project/Laterality/Data_Staging/Input_files/subset_5/007\n",
      "/Users/swastik/ophthalmology/Daddy_Project/Laterality/Data_Staging/Input_files/subset_5/009\n",
      "/Users/swastik/ophthalmology/Daddy_Project/Laterality/Data_Staging/Input_files/subset_5/036\n",
      "/Users/swastik/ophthalmology/Daddy_Project/Laterality/Data_Staging/Input_files/subset_5/031\n",
      "/Users/swastik/ophthalmology/Daddy_Project/Laterality/Data_Staging/Input_files/subset_5/052\n",
      "/Users/swastik/ophthalmology/Daddy_Project/Laterality/Data_Staging/Input_files/subset_5/055\n",
      "/Users/swastik/ophthalmology/Daddy_Project/Laterality/Data_Staging/Input_files/subset_5/063\n",
      "/Users/swastik/ophthalmology/Daddy_Project/Laterality/Data_Staging/Input_files/subset_5/097\n",
      "/Users/swastik/ophthalmology/Daddy_Project/Laterality/Data_Staging/Input_files/subset_5/090\n",
      "/Users/swastik/ophthalmology/Daddy_Project/Laterality/Data_Staging/Input_files/subset_5/064\n",
      "/Users/swastik/ophthalmology/Daddy_Project/Laterality/Data_Staging/Input_files/subset_5/030\n",
      "/Users/swastik/ophthalmology/Daddy_Project/Laterality/Data_Staging/Input_files/subset_5/008\n",
      "/Users/swastik/ophthalmology/Daddy_Project/Laterality/Data_Staging/Input_files/subset_5/037\n",
      "/Users/swastik/ophthalmology/Daddy_Project/Laterality/Data_Staging/Input_files/subset_5/001\n",
      "/Users/swastik/ophthalmology/Daddy_Project/Laterality/Data_Staging/Input_files/subset_5/039\n",
      "/Users/swastik/ophthalmology/Daddy_Project/Laterality/Data_Staging/Input_files/subset_5/006\n",
      "/Users/swastik/ophthalmology/Daddy_Project/Laterality/Data_Staging/Input_files/subset_5/089\n",
      "/Users/swastik/ophthalmology/Daddy_Project/Laterality/Data_Staging/Input_files/subset_5/042\n",
      "/Users/swastik/ophthalmology/Daddy_Project/Laterality/Data_Staging/Input_files/subset_5/045\n",
      "/Users/swastik/ophthalmology/Daddy_Project/Laterality/Data_Staging/Input_files/subset_5/087\n",
      "/Users/swastik/ophthalmology/Daddy_Project/Laterality/Data_Staging/Input_files/subset_5/073\n",
      "/Users/swastik/ophthalmology/Daddy_Project/Laterality/Data_Staging/Input_files/subset_5/074\n",
      "/Users/swastik/ophthalmology/Daddy_Project/Laterality/Data_Staging/Input_files/subset_5/080\n",
      "/Users/swastik/ophthalmology/Daddy_Project/Laterality/Data_Staging/Input_files/subset_5/020\n",
      "/Users/swastik/ophthalmology/Daddy_Project/Laterality/Data_Staging/Input_files/subset_5/027\n",
      "/Users/swastik/ophthalmology/Daddy_Project/Laterality/Data_Staging/Input_files/subset_5/018\n",
      "/Users/swastik/ophthalmology/Daddy_Project/Laterality/Data_Staging/Input_files/subset_5/011\n",
      "/Users/swastik/ophthalmology/Daddy_Project/Laterality/Data_Staging/Input_files/subset_5/016\n",
      "/Users/swastik/ophthalmology/Daddy_Project/Laterality/Data_Staging/Input_files/subset_5/029\n",
      "/Users/swastik/ophthalmology/Daddy_Project/Laterality/Data_Staging/Input_files/subset_5/081\n",
      "/Users/swastik/ophthalmology/Daddy_Project/Laterality/Data_Staging/Input_files/subset_5/075\n",
      "/Users/swastik/ophthalmology/Daddy_Project/Laterality/Data_Staging/Input_files/subset_5/072\n",
      "/Users/swastik/ophthalmology/Daddy_Project/Laterality/Data_Staging/Input_files/subset_5/086\n",
      "/Users/swastik/ophthalmology/Daddy_Project/Laterality/Data_Staging/Input_files/subset_5/044\n",
      "/Users/swastik/ophthalmology/Daddy_Project/Laterality/Data_Staging/Input_files/subset_5/088\n",
      "/Users/swastik/ophthalmology/Daddy_Project/Laterality/Data_Staging/Input_files/subset_5/043\n",
      "/Users/swastik/ophthalmology/Daddy_Project/Laterality/Data_Staging/Input_files/subset_5/017\n",
      "/Users/swastik/ophthalmology/Daddy_Project/Laterality/Data_Staging/Input_files/subset_5/028\n",
      "/Users/swastik/ophthalmology/Daddy_Project/Laterality/Data_Staging/Input_files/subset_5/010\n",
      "/Users/swastik/ophthalmology/Daddy_Project/Laterality/Data_Staging/Input_files/subset_5/026\n",
      "/Users/swastik/ophthalmology/Daddy_Project/Laterality/Data_Staging/Input_files/subset_5/019\n",
      "/Users/swastik/ophthalmology/Daddy_Project/Laterality/Data_Staging/Input_files/subset_5/021\n",
      "/Users/swastik/ophthalmology/Daddy_Project/Laterality/Data_Staging/Input_files/subset_5/003\n",
      "/Users/swastik/ophthalmology/Daddy_Project/Laterality/Data_Staging/Input_files/subset_5/004\n",
      "/Users/swastik/ophthalmology/Daddy_Project/Laterality/Data_Staging/Input_files/subset_5/032\n",
      "/Users/swastik/ophthalmology/Daddy_Project/Laterality/Data_Staging/Input_files/subset_5/035\n",
      "/Users/swastik/ophthalmology/Daddy_Project/Laterality/Data_Staging/Input_files/subset_5/095\n",
      "/Users/swastik/ophthalmology/Daddy_Project/Laterality/Data_Staging/Input_files/subset_5/061\n",
      "/Users/swastik/ophthalmology/Daddy_Project/Laterality/Data_Staging/Input_files/subset_5/066\n",
      "/Users/swastik/ophthalmology/Daddy_Project/Laterality/Data_Staging/Input_files/subset_5/092\n",
      "/Users/swastik/ophthalmology/Daddy_Project/Laterality/Data_Staging/Input_files/subset_5/059\n",
      "/Users/swastik/ophthalmology/Daddy_Project/Laterality/Data_Staging/Input_files/subset_5/050\n",
      "/Users/swastik/ophthalmology/Daddy_Project/Laterality/Data_Staging/Input_files/subset_5/057\n",
      "/Users/swastik/ophthalmology/Daddy_Project/Laterality/Data_Staging/Input_files/subset_5/068\n",
      "/Users/swastik/ophthalmology/Daddy_Project/Laterality/Data_Staging/Input_files/subset_5/034\n",
      "/Users/swastik/ophthalmology/Daddy_Project/Laterality/Data_Staging/Input_files/subset_5/033\n",
      "/Users/swastik/ophthalmology/Daddy_Project/Laterality/Data_Staging/Input_files/subset_5/005\n",
      "/Users/swastik/ophthalmology/Daddy_Project/Laterality/Data_Staging/Input_files/subset_5/002\n",
      "/Users/swastik/ophthalmology/Daddy_Project/Laterality/Data_Staging/Input_files/subset_5/056\n",
      "/Users/swastik/ophthalmology/Daddy_Project/Laterality/Data_Staging/Input_files/subset_5/069\n",
      "/Users/swastik/ophthalmology/Daddy_Project/Laterality/Data_Staging/Input_files/subset_5/051\n",
      "/Users/swastik/ophthalmology/Daddy_Project/Laterality/Data_Staging/Input_files/subset_5/093\n",
      "/Users/swastik/ophthalmology/Daddy_Project/Laterality/Data_Staging/Input_files/subset_5/067\n",
      "/Users/swastik/ophthalmology/Daddy_Project/Laterality/Data_Staging/Input_files/subset_5/058\n",
      "/Users/swastik/ophthalmology/Daddy_Project/Laterality/Data_Staging/Input_files/subset_5/060\n"
     ]
    }
   ],
   "source": [
    "## Deleting the files from folders\n",
    "for i in range(len(number_folder)):\n",
    "    print(src_dir)\n",
    "    src_dir = number_folder[i]\n",
    "    single_files = os.listdir(src_dir)\n",
    "    for j in range(len(single_files)):\n",
    "        if os.path.isfile(os.path.join(src_dir, single_files[j])):\n",
    "            os.remove(os.path.join(src_dir, single_files[j]))"
   ]
  },
  {
   "cell_type": "code",
   "execution_count": null,
   "metadata": {},
   "outputs": [],
   "source": []
  }
 ],
 "metadata": {
  "kernelspec": {
   "display_name": "Python 3.9.13 ('fmri')",
   "language": "python",
   "name": "python3"
  },
  "language_info": {
   "codemirror_mode": {
    "name": "ipython",
    "version": 3
   },
   "file_extension": ".py",
   "mimetype": "text/x-python",
   "name": "python",
   "nbconvert_exporter": "python",
   "pygments_lexer": "ipython3",
   "version": "3.9.13"
  },
  "orig_nbformat": 4,
  "vscode": {
   "interpreter": {
    "hash": "9eb92c384674036f91dd925a291cc1b18c6c54036ec33c19765fc5c0066da0ed"
   }
  }
 },
 "nbformat": 4,
 "nbformat_minor": 2
}
